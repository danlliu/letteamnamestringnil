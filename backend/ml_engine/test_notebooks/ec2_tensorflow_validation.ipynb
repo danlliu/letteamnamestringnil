{
 "cells": [
  {
   "cell_type": "code",
   "execution_count": 1,
   "metadata": {
    "execution": {
     "iopub.execute_input": "2021-10-31T18:48:51.358595Z",
     "iopub.status.busy": "2021-10-31T18:48:51.350625Z",
     "iopub.status.idle": "2021-10-31T18:48:53.001076Z",
     "shell.execute_reply": "2021-10-31T18:48:53.001843Z"
    }
   },
   "outputs": [
    {
     "name": "stderr",
     "output_type": "stream",
     "text": [
      "2021-10-31 18:48:51.773196: W tensorflow/stream_executor/platform/default/dso_loader.cc:64] Could not load dynamic library 'libcudart.so.11.0'; dlerror: libcudart.so.11.0: cannot open shared object file: No such file or directory\n",
      "2021-10-31 18:48:51.773238: I tensorflow/stream_executor/cuda/cudart_stub.cc:29] Ignore above cudart dlerror if you do not have a GPU set up on your machine.\n"
     ]
    }
   ],
   "source": [
    "import pandas as pd\n",
    "import numpy as np\n",
    "\n",
    "# Make numpy values easier to read.\n",
    "np.set_printoptions(precision=3, suppress=True)\n",
    "\n",
    "import tensorflow as tf\n",
    "from tensorflow.keras import layers\n",
    "from tensorflow.keras.layers.experimental import preprocessing"
   ]
  },
  {
   "cell_type": "code",
   "execution_count": 2,
   "metadata": {
    "execution": {
     "iopub.execute_input": "2021-10-31T18:48:53.005511Z",
     "iopub.status.busy": "2021-10-31T18:48:53.004469Z",
     "iopub.status.idle": "2021-10-31T18:48:53.011084Z",
     "shell.execute_reply": "2021-10-31T18:48:53.011807Z"
    }
   },
   "outputs": [
    {
     "name": "stdout",
     "output_type": "stream",
     "text": [
      "TensorFlow version: 2.6.0\n"
     ]
    }
   ],
   "source": [
    "print(\"TensorFlow version:\", tf.__version__)"
   ]
  },
  {
   "cell_type": "code",
   "execution_count": 3,
   "metadata": {
    "execution": {
     "iopub.execute_input": "2021-10-31T18:48:53.015180Z",
     "iopub.status.busy": "2021-10-31T18:48:53.014535Z",
     "iopub.status.idle": "2021-10-31T18:48:53.334108Z",
     "shell.execute_reply": "2021-10-31T18:48:53.334798Z"
    }
   },
   "outputs": [],
   "source": [
    "mnist = tf.keras.datasets.mnist\n",
    "\n",
    "(x_train, y_train), (x_test, y_test) = mnist.load_data()\n",
    "x_train = x_train[:500]\n",
    "y_train = y_train[:500]\n",
    "x_test = x_test[:500]\n",
    "y_test = y_test[:500]\n",
    "x_train, x_test = x_train / 255.0, x_test / 255.0"
   ]
  },
  {
   "cell_type": "code",
   "execution_count": 4,
   "metadata": {
    "execution": {
     "iopub.execute_input": "2021-10-31T18:48:53.338104Z",
     "iopub.status.busy": "2021-10-31T18:48:53.337107Z",
     "iopub.status.idle": "2021-10-31T18:48:53.378045Z",
     "shell.execute_reply": "2021-10-31T18:48:53.378794Z"
    }
   },
   "outputs": [
    {
     "name": "stderr",
     "output_type": "stream",
     "text": [
      "2021-10-31 18:48:53.348226: W tensorflow/stream_executor/platform/default/dso_loader.cc:64] Could not load dynamic library 'libcuda.so.1'; dlerror: libcuda.so.1: cannot open shared object file: No such file or directory\n",
      "2021-10-31 18:48:53.348276: W tensorflow/stream_executor/cuda/cuda_driver.cc:269] failed call to cuInit: UNKNOWN ERROR (303)\n",
      "2021-10-31 18:48:53.348298: I tensorflow/stream_executor/cuda/cuda_diagnostics.cc:156] kernel driver does not appear to be running on this host (ip-172-31-44-43): /proc/driver/nvidia/version does not exist\n",
      "2021-10-31 18:48:53.348572: I tensorflow/core/platform/cpu_feature_guard.cc:142] This TensorFlow binary is optimized with oneAPI Deep Neural Network Library (oneDNN) to use the following CPU instructions in performance-critical operations:  AVX2 FMA\n",
      "To enable them in other operations, rebuild TensorFlow with the appropriate compiler flags.\n"
     ]
    }
   ],
   "source": [
    "model = tf.keras.models.Sequential([\n",
    "  tf.keras.layers.Flatten(input_shape=(28, 28)),\n",
    "  tf.keras.layers.Dense(128, activation='relu'),\n",
    "  tf.keras.layers.Dropout(0.2),\n",
    "  tf.keras.layers.Dense(10)\n",
    "])"
   ]
  },
  {
   "cell_type": "code",
   "execution_count": 5,
   "metadata": {
    "execution": {
     "iopub.execute_input": "2021-10-31T18:48:53.382272Z",
     "iopub.status.busy": "2021-10-31T18:48:53.381229Z",
     "iopub.status.idle": "2021-10-31T18:48:53.397429Z",
     "shell.execute_reply": "2021-10-31T18:48:53.398113Z"
    }
   },
   "outputs": [
    {
     "data": {
      "text/plain": [
       "array([[-0.135,  0.104, -0.361,  0.395,  0.324, -0.572,  0.558, -0.351,\n",
       "         0.13 , -0.457]], dtype=float32)"
      ]
     },
     "execution_count": 5,
     "metadata": {},
     "output_type": "execute_result"
    }
   ],
   "source": [
    "predictions = model(x_train[:1]).numpy()\n",
    "predictions"
   ]
  },
  {
   "cell_type": "code",
   "execution_count": 6,
   "metadata": {
    "execution": {
     "iopub.execute_input": "2021-10-31T18:48:53.401215Z",
     "iopub.status.busy": "2021-10-31T18:48:53.400292Z",
     "iopub.status.idle": "2021-10-31T18:48:53.404372Z",
     "shell.execute_reply": "2021-10-31T18:48:53.405055Z"
    }
   },
   "outputs": [],
   "source": [
    "loss_fn = tf.keras.losses.SparseCategoricalCrossentropy(from_logits=True)"
   ]
  },
  {
   "cell_type": "code",
   "execution_count": 7,
   "metadata": {
    "execution": {
     "iopub.execute_input": "2021-10-31T18:48:53.411761Z",
     "iopub.status.busy": "2021-10-31T18:48:53.407220Z",
     "iopub.status.idle": "2021-10-31T18:48:53.416309Z",
     "shell.execute_reply": "2021-10-31T18:48:53.416969Z"
    }
   },
   "outputs": [
    {
     "data": {
      "text/plain": [
       "2.9078884"
      ]
     },
     "execution_count": 7,
     "metadata": {},
     "output_type": "execute_result"
    }
   ],
   "source": [
    "loss_fn(y_train[:1], predictions).numpy()"
   ]
  },
  {
   "cell_type": "code",
   "execution_count": 8,
   "metadata": {
    "execution": {
     "iopub.execute_input": "2021-10-31T18:48:53.420331Z",
     "iopub.status.busy": "2021-10-31T18:48:53.419176Z",
     "iopub.status.idle": "2021-10-31T18:48:53.429568Z",
     "shell.execute_reply": "2021-10-31T18:48:53.430305Z"
    }
   },
   "outputs": [],
   "source": [
    "model.compile(optimizer='adam',\n",
    "              loss=loss_fn,\n",
    "              metrics=['accuracy'])"
   ]
  },
  {
   "cell_type": "code",
   "execution_count": 9,
   "metadata": {
    "execution": {
     "iopub.execute_input": "2021-10-31T18:48:53.433349Z",
     "iopub.status.busy": "2021-10-31T18:48:53.432439Z",
     "iopub.status.idle": "2021-10-31T18:48:54.073827Z",
     "shell.execute_reply": "2021-10-31T18:48:54.074635Z"
    }
   },
   "outputs": [
    {
     "name": "stderr",
     "output_type": "stream",
     "text": [
      "2021-10-31 18:48:53.560122: I tensorflow/compiler/mlir/mlir_graph_optimization_pass.cc:185] None of the MLIR Optimization Passes are enabled (registered 2)\n"
     ]
    },
    {
     "name": "stdout",
     "output_type": "stream",
     "text": [
      "Epoch 1/5\n",
      "16/16 [==============================] - 0s 2ms/step - loss: 1.9483 - accuracy: 0.3820\n",
      "Epoch 2/5\n",
      "16/16 [==============================] - 0s 2ms/step - loss: 1.1042 - accuracy: 0.7680\n",
      "Epoch 3/5\n",
      "16/16 [==============================] - 0s 2ms/step - loss: 0.6648 - accuracy: 0.8460\n",
      "Epoch 4/5\n",
      "16/16 [==============================] - 0s 2ms/step - loss: 0.4719 - accuracy: 0.8900\n",
      "Epoch 5/5\n",
      "16/16 [==============================] - 0s 2ms/step - loss: 0.3840 - accuracy: 0.9040\n"
     ]
    },
    {
     "data": {
      "text/plain": [
       "<keras.callbacks.History at 0x7f8a8278bfd0>"
      ]
     },
     "execution_count": 9,
     "metadata": {},
     "output_type": "execute_result"
    }
   ],
   "source": [
    "model.fit(x_train, y_train, epochs=5)"
   ]
  },
  {
   "cell_type": "code",
   "execution_count": 10,
   "metadata": {
    "execution": {
     "iopub.execute_input": "2021-10-31T18:48:54.082499Z",
     "iopub.status.busy": "2021-10-31T18:48:54.077015Z",
     "iopub.status.idle": "2021-10-31T18:48:54.249025Z",
     "shell.execute_reply": "2021-10-31T18:48:54.249773Z"
    }
   },
   "outputs": [
    {
     "name": "stdout",
     "output_type": "stream",
     "text": [
      "16/16 - 0s - loss: 0.6663 - accuracy: 0.7980\n"
     ]
    },
    {
     "data": {
      "text/plain": [
       "[0.6663129329681396, 0.7979999780654907]"
      ]
     },
     "execution_count": 10,
     "metadata": {},
     "output_type": "execute_result"
    }
   ],
   "source": [
    "model.evaluate(x_test,  y_test, verbose=2)"
   ]
  },
  {
   "cell_type": "code",
   "execution_count": 11,
   "metadata": {
    "execution": {
     "iopub.execute_input": "2021-10-31T18:48:54.253273Z",
     "iopub.status.busy": "2021-10-31T18:48:54.252279Z",
     "iopub.status.idle": "2021-10-31T18:48:54.273058Z",
     "shell.execute_reply": "2021-10-31T18:48:54.273826Z"
    }
   },
   "outputs": [],
   "source": [
    "probability_model = tf.keras.Sequential([\n",
    "  model,\n",
    "  tf.keras.layers.Softmax()\n",
    "])"
   ]
  },
  {
   "cell_type": "code",
   "execution_count": 12,
   "metadata": {
    "execution": {
     "iopub.execute_input": "2021-10-31T18:48:54.277145Z",
     "iopub.status.busy": "2021-10-31T18:48:54.276133Z",
     "iopub.status.idle": "2021-10-31T18:48:54.285845Z",
     "shell.execute_reply": "2021-10-31T18:48:54.286595Z"
    }
   },
   "outputs": [
    {
     "data": {
      "text/plain": [
       "<tf.Tensor: shape=(5, 10), dtype=float32, numpy=\n",
       "array([[0.002, 0.   , 0.006, 0.005, 0.006, 0.003, 0.001, 0.912, 0.002,\n",
       "        0.065],\n",
       "       [0.027, 0.005, 0.801, 0.018, 0.001, 0.062, 0.078, 0.   , 0.006,\n",
       "        0.001],\n",
       "       [0.003, 0.888, 0.02 , 0.013, 0.006, 0.009, 0.016, 0.014, 0.023,\n",
       "        0.007],\n",
       "       [0.956, 0.   , 0.003, 0.   , 0.   , 0.006, 0.029, 0.005, 0.   ,\n",
       "        0.   ],\n",
       "       [0.01 , 0.002, 0.015, 0.007, 0.829, 0.008, 0.013, 0.046, 0.017,\n",
       "        0.053]], dtype=float32)>"
      ]
     },
     "execution_count": 12,
     "metadata": {},
     "output_type": "execute_result"
    }
   ],
   "source": [
    "probability_model(x_test[:5])"
   ]
  },
  {
   "cell_type": "code",
   "execution_count": null,
   "metadata": {},
   "outputs": [],
   "source": []
  }
 ],
 "metadata": {
  "kernelspec": {
   "display_name": "Python 3",
   "language": "python",
   "name": "python3"
  },
  "language_info": {
   "codemirror_mode": {
    "name": "ipython",
    "version": 3
   },
   "file_extension": ".py",
   "mimetype": "text/x-python",
   "name": "python",
   "nbconvert_exporter": "python",
   "pygments_lexer": "ipython3",
   "version": "3.8.10"
  }
 },
 "nbformat": 4,
 "nbformat_minor": 4
}
