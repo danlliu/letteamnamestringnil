{
 "cells": [
  {
   "cell_type": "code",
   "execution_count": 1,
   "metadata": {},
   "outputs": [],
   "source": [
    "import Engine as e\n",
    "from pprint import pprint"
   ]
  },
  {
   "cell_type": "code",
   "execution_count": 2,
   "metadata": {},
   "outputs": [
    {
     "name": "stdout",
     "output_type": "stream",
     "text": [
      "[[-3.053 -1.999 -3.834 -2.733 -3.39  -2.25  -2.932 -3.026 -2.88   4.287\n",
      "  -2.796 -2.903 -3.338 -3.707 -3.606 -3.028 -3.289 -2.809 -3.162 -3.158\n",
      "  -3.375 -2.915 -2.664 -2.601 -3.299  3.607  3.349  3.665  1.363 -3.431\n",
      "   3.502 -2.899 -2.801 -3.117 -3.16  -2.694 -3.336 -2.672  3.472 -3.8\n",
      "  -3.842 -3.585 -3.201 -3.389  3.614 -3.543 -3.296 -4.15   3.514 -3.734\n",
      "  -2.807 -3.15  -3.025 -3.198  4.39  -3.51  -4.213 -3.594 -1.598 -3.77\n",
      "  -2.763 -1.383]]\n",
      "WARNING:tensorflow:5 out of the last 5 calls to <function Model.make_predict_function.<locals>.predict_function at 0x0000026C19B628B0> triggered tf.function retracing. Tracing is expensive and the excessive number of tracings could be due to (1) creating @tf.function repeatedly in a loop, (2) passing tensors with different shapes, (3) passing Python objects instead of tensors. For (1), please define your @tf.function outside of the loop. For (2), @tf.function has experimental_relax_shapes=True option that relaxes argument shapes that can avoid unnecessary retracing. For (3), please refer to https://www.tensorflow.org/guide/function#controlling_retracing and https://www.tensorflow.org/api_docs/python/tf/function for  more details.\n",
      "WARNING:tensorflow:6 out of the last 6 calls to <function Model.make_predict_function.<locals>.predict_function at 0x0000026C19BA35E0> triggered tf.function retracing. Tracing is expensive and the excessive number of tracings could be due to (1) creating @tf.function repeatedly in a loop, (2) passing tensors with different shapes, (3) passing Python objects instead of tensors. For (1), please define your @tf.function outside of the loop. For (2), @tf.function has experimental_relax_shapes=True option that relaxes argument shapes that can avoid unnecessary retracing. For (3), please refer to https://www.tensorflow.org/guide/function#controlling_retracing and https://www.tensorflow.org/api_docs/python/tf/function for  more details.\n"
     ]
    },
    {
     "data": {
      "text/plain": [
       "{'cls': 'druid',\n",
       " 'alignment': 0,\n",
       " 'race': 'tiefling',\n",
       " 'background': 'knight',\n",
       " 'str': 10,\n",
       " 'dex': 14,\n",
       " 'con': 13,\n",
       " 'int': 13,\n",
       " 'wis': 15,\n",
       " 'cha': 10,\n",
       " 'level': 1,\n",
       " 'experience_points': 0,\n",
       " 'inspiration': 0,\n",
       " 'proficiency_bonus': 2,\n",
       " 'passive_wisdom': 0,\n",
       " 'armor_class': 12,\n",
       " 'initiative': 2,\n",
       " 'hit_dice': 8,\n",
       " 'max_hp': 8,\n",
       " 'cur_hp': 8,\n",
       " 'temp_hp': 0,\n",
       " 'death_save_success': 0,\n",
       " 'death_save_failure': 0,\n",
       " 'age': 25,\n",
       " 'eyes': 'brown',\n",
       " 'traits': '',\n",
       " 'ideals': '',\n",
       " 'bonds': '',\n",
       " 'flaws': '',\n",
       " 'backstory': '',\n",
       " 'dark_gifts': '',\n",
       " 'features': '',\n",
       " 'allies': '',\n",
       " 'treasure': '',\n",
       " 'notes': '',\n",
       " 'features_and_traits': 'Darkvision, Hellish Resistance, spellcasting, druidic',\n",
       " 'other_proficiencies_skills': 'light armor, medium armor, shields, clubs, daggers, darts, javelins, maces, quarterstaffs, scimitars, sickles, slings, spears, herbalism kit',\n",
       " 'equipment': \"club, light hammer, leather armor, explorer's pack, druidic focus\",\n",
       " 'abilities': {'strength': 10,\n",
       "  'dexterity': 14,\n",
       "  'constitution': 13,\n",
       "  'intelligence': 13,\n",
       "  'wisdom': 15,\n",
       "  'charisma': 10},\n",
       " 'saving': {'strength': False,\n",
       "  'dexterity': False,\n",
       "  'constitution': False,\n",
       "  'intelligence': True,\n",
       "  'wisdom': True,\n",
       "  'charisma': False},\n",
       " 'skills': {'acrobatics': False,\n",
       "  'animal_handling': False,\n",
       "  'arcana': False,\n",
       "  'athletics': False,\n",
       "  'deception': False,\n",
       "  'history': False,\n",
       "  'insight': False,\n",
       "  'intimidation': False,\n",
       "  'investigation': False,\n",
       "  'medicine': True,\n",
       "  'nature': False,\n",
       "  'perception': False,\n",
       "  'performance': False,\n",
       "  'persuasion': False,\n",
       "  'religion': False,\n",
       "  'sleight_of_hand': False,\n",
       "  'stealth': False,\n",
       "  'survival': True},\n",
       " 'spells': {'spellcast_ability': 'wisdom',\n",
       "  'spell_save_dc': 12,\n",
       "  'spell_attack_bonus': 4}}"
      ]
     },
     "execution_count": 2,
     "metadata": {},
     "output_type": "execute_result"
    }
   ],
   "source": [
    "e.generate_character('druid')"
   ]
  },
  {
   "cell_type": "code",
   "execution_count": 3,
   "metadata": {
    "scrolled": false
   },
   "outputs": [
    {
     "name": "stdout",
     "output_type": "stream",
     "text": [
      "[[-3.304 -2.268 -4.251 -3.274 -3.77  -2.453 -3.202 -3.427 -3.384  4.817\n",
      "  -3.246 -3.283 -3.931 -4.07  -4.012 -3.403 -3.522 -3.251 -3.412 -3.592\n",
      "  -3.772 -3.261 -3.168 -2.816 -3.767  4.074  3.978  4.083  1.5   -3.933\n",
      "   4.124 -3.194 -3.139 -3.799 -3.566 -3.032 -3.543 -3.091  4.054 -4.387\n",
      "  -4.233 -3.939 -3.454 -3.756  3.944 -3.882 -3.765 -4.717  3.866 -4.131\n",
      "  -3.075 -3.567 -3.187 -3.599  4.728 -3.83  -4.702 -4.242 -1.593 -4.285\n",
      "  -2.904 -1.638]]\n"
     ]
    },
    {
     "data": {
      "text/plain": [
       "{'cls': 'cleric',\n",
       " 'alignment': 0,\n",
       " 'race': 'dragonborn',\n",
       " 'background': 'hermit',\n",
       " 'str': 15,\n",
       " 'dex': 12,\n",
       " 'con': 13,\n",
       " 'int': 8,\n",
       " 'wis': 15,\n",
       " 'cha': 12,\n",
       " 'level': 1,\n",
       " 'experience_points': 0,\n",
       " 'inspiration': 0,\n",
       " 'proficiency_bonus': 2,\n",
       " 'passive_wisdom': 0,\n",
       " 'armor_class': 11,\n",
       " 'initiative': 1,\n",
       " 'hit_dice': 8,\n",
       " 'max_hp': 8,\n",
       " 'cur_hp': 8,\n",
       " 'temp_hp': 0,\n",
       " 'death_save_success': 0,\n",
       " 'death_save_failure': 0,\n",
       " 'age': 67,\n",
       " 'eyes': 'brown',\n",
       " 'traits': '',\n",
       " 'ideals': '',\n",
       " 'bonds': '',\n",
       " 'flaws': '',\n",
       " 'backstory': '',\n",
       " 'dark_gifts': '',\n",
       " 'features': '',\n",
       " 'allies': '',\n",
       " 'treasure': '',\n",
       " 'notes': '',\n",
       " 'features_and_traits': 'Draconic Ancestry, Breath Weapon, Damage Resistance, spellcasting, divine domain',\n",
       " 'other_proficiencies_skills': 'light armor, medium armor, shields, simple weapons',\n",
       " 'equipment': \"mace, leather armor, light crossbow, bolts *20, priest's pack, shield, holy symbol\",\n",
       " 'abilities': {'strength': 15,\n",
       "  'dexterity': 12,\n",
       "  'constitution': 13,\n",
       "  'intelligence': 8,\n",
       "  'wisdom': 15,\n",
       "  'charisma': 12},\n",
       " 'saving': {'strength': False,\n",
       "  'dexterity': False,\n",
       "  'constitution': False,\n",
       "  'intelligence': False,\n",
       "  'wisdom': True,\n",
       "  'charisma': True},\n",
       " 'skills': {'acrobatics': False,\n",
       "  'animal_handling': False,\n",
       "  'arcana': False,\n",
       "  'athletics': False,\n",
       "  'deception': False,\n",
       "  'history': False,\n",
       "  'insight': False,\n",
       "  'intimidation': False,\n",
       "  'investigation': False,\n",
       "  'medicine': False,\n",
       "  'nature': False,\n",
       "  'perception': False,\n",
       "  'performance': False,\n",
       "  'persuasion': True,\n",
       "  'religion': True,\n",
       "  'sleight_of_hand': False,\n",
       "  'stealth': False,\n",
       "  'survival': False},\n",
       " 'spells': {'spellcast_ability': 'wisdom',\n",
       "  'spell_save_dc': 12,\n",
       "  'spell_attack_bonus': 4}}"
      ]
     },
     "execution_count": 3,
     "metadata": {},
     "output_type": "execute_result"
    }
   ],
   "source": [
    "e.generate_character('cleric')"
   ]
  },
  {
   "cell_type": "code",
   "execution_count": 4,
   "metadata": {
    "scrolled": false
   },
   "outputs": [
    {
     "name": "stdout",
     "output_type": "stream",
     "text": [
      "[[-2.586 -1.786 -3.114 -2.49  -2.7   -2.279 -2.632 -2.638 -2.649  3.852\n",
      "  -2.771 -2.746 -2.934 -3.297 -3.242 -2.761 -2.842 -2.599 -2.761 -2.896\n",
      "  -2.934 -2.233 -2.762 -1.906 -2.876  3.188  3.115  3.071  0.937 -2.836\n",
      "   2.869 -2.58  -2.294 -3.12  -2.843 -2.377 -2.902 -2.524  3.239 -3.636\n",
      "  -3.137 -2.655 -2.75  -2.99   3.133 -3.228 -3.111 -3.59   2.955 -3.115\n",
      "  -2.508 -2.989 -2.256 -3.192  3.948 -2.955 -3.284 -3.459 -1.243 -3.179\n",
      "  -2.702 -1.11 ]]\n"
     ]
    },
    {
     "data": {
      "text/plain": [
       "{'cls': 'rogue',\n",
       " 'alignment': 8,\n",
       " 'race': 'tiefling',\n",
       " 'background': 'far traveler',\n",
       " 'str': 8,\n",
       " 'dex': 15,\n",
       " 'con': 13,\n",
       " 'int': 13,\n",
       " 'wis': 14,\n",
       " 'cha': 12,\n",
       " 'level': 1,\n",
       " 'experience_points': 0,\n",
       " 'inspiration': 0,\n",
       " 'proficiency_bonus': 2,\n",
       " 'passive_wisdom': 0,\n",
       " 'armor_class': 12,\n",
       " 'initiative': 2,\n",
       " 'hit_dice': 8,\n",
       " 'max_hp': 8,\n",
       " 'cur_hp': 8,\n",
       " 'temp_hp': 0,\n",
       " 'death_save_success': 0,\n",
       " 'death_save_failure': 0,\n",
       " 'age': 61,\n",
       " 'eyes': 'brown',\n",
       " 'traits': '',\n",
       " 'ideals': '',\n",
       " 'bonds': '',\n",
       " 'flaws': '',\n",
       " 'backstory': '',\n",
       " 'dark_gifts': '',\n",
       " 'features': '',\n",
       " 'allies': '',\n",
       " 'treasure': '',\n",
       " 'notes': '',\n",
       " 'features_and_traits': \"Darkvision, Hellish Resistance, expertise, sneak attack, thieves' cant\",\n",
       " 'other_proficiencies_skills': \"light armor, simple weapons, hand crossbows, longswords, rapiers, shortswords, thieves' tools\",\n",
       " 'equipment': \"leather armor, shortsword, shortbow, quiver, arrows *20, burglar's pack, dagger, dagger, thieves' tools\",\n",
       " 'abilities': {'strength': 8,\n",
       "  'dexterity': 15,\n",
       "  'constitution': 13,\n",
       "  'intelligence': 13,\n",
       "  'wisdom': 14,\n",
       "  'charisma': 12},\n",
       " 'saving': {'strength': False,\n",
       "  'dexterity': True,\n",
       "  'constitution': False,\n",
       "  'intelligence': True,\n",
       "  'wisdom': False,\n",
       "  'charisma': False},\n",
       " 'skills': {'acrobatics': False,\n",
       "  'animal_handling': False,\n",
       "  'arcana': False,\n",
       "  'athletics': False,\n",
       "  'deception': False,\n",
       "  'history': False,\n",
       "  'insight': True,\n",
       "  'intimidation': True,\n",
       "  'investigation': True,\n",
       "  'medicine': False,\n",
       "  'nature': False,\n",
       "  'perception': False,\n",
       "  'performance': False,\n",
       "  'persuasion': True,\n",
       "  'religion': False,\n",
       "  'sleight_of_hand': False,\n",
       "  'stealth': False,\n",
       "  'survival': False},\n",
       " 'spells': {'spellcast_ability': 'dexterity',\n",
       "  'spell_save_dc': 12,\n",
       "  'spell_attack_bonus': 4}}"
      ]
     },
     "execution_count": 4,
     "metadata": {},
     "output_type": "execute_result"
    }
   ],
   "source": [
    "e.generate_character('rogue', alignment='chaotic evil')"
   ]
  },
  {
   "cell_type": "code",
   "execution_count": 5,
   "metadata": {},
   "outputs": [
    {
     "data": {
      "text/plain": [
       "[]"
      ]
     },
     "execution_count": 5,
     "metadata": {},
     "output_type": "execute_result"
    }
   ],
   "source": [
    "e.data_list.background_list"
   ]
  },
  {
   "cell_type": "code",
   "execution_count": null,
   "metadata": {},
   "outputs": [],
   "source": []
  },
  {
   "cell_type": "code",
   "execution_count": null,
   "metadata": {},
   "outputs": [],
   "source": []
  },
  {
   "cell_type": "code",
   "execution_count": null,
   "metadata": {},
   "outputs": [],
   "source": []
  }
 ],
 "metadata": {
  "kernelspec": {
   "display_name": "Python 3",
   "language": "python",
   "name": "python3"
  },
  "language_info": {
   "codemirror_mode": {
    "name": "ipython",
    "version": 3
   },
   "file_extension": ".py",
   "mimetype": "text/x-python",
   "name": "python",
   "nbconvert_exporter": "python",
   "pygments_lexer": "ipython3",
   "version": "3.9.7"
  }
 },
 "nbformat": 4,
 "nbformat_minor": 4
}
