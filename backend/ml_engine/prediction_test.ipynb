{
 "cells": [
  {
   "cell_type": "code",
   "execution_count": 1,
   "metadata": {},
   "outputs": [],
   "source": [
    "import Engine as e\n",
    "from pprint import pprint"
   ]
  },
  {
   "cell_type": "code",
   "execution_count": 2,
   "metadata": {},
   "outputs": [
    {
     "name": "stdout",
     "output_type": "stream",
     "text": [
      "Models loaded\n",
      "[[-0.212 -0.084  0.41   0.141  0.172  0.075 -0.349  0.105  0.044]]\n",
      "[[-0.109  0.156 -0.504 -0.441  0.082  0.114  0.368  0.22   0.273  0.724\n",
      "  -0.216  0.057 -0.247 -0.039 -0.133  0.107 -0.045 -0.262 -0.062 -0.255\n",
      "  -0.095 -0.026  0.046 -0.424 -0.132  0.075  0.554  0.197  0.137 -0.075\n",
      "   0.004  0.052 -0.362 -0.331  0.109 -0.142 -0.235 -0.267 -0.045 -0.055\n",
      "   0.06  -0.056 -0.216 -0.052 -0.113 -0.165 -0.384 -0.155  0.16   0.086\n",
      "  -0.131 -0.032 -0.74  -0.382  0.357  0.104  0.179 -0.256 -0.192 -0.21\n",
      "   0.061 -0.407]]\n",
      "[[ 0.413  0.159  0.097 -0.114 -0.298 -0.133 -0.151 -0.275  0.635  0.046\n",
      "   0.035  0.071  0.124  0.489 -0.265 -0.078  0.297 -0.927  0.406 -0.143\n",
      "   0.323 -0.649 -0.018  0.137 -0.155  0.403 -0.327  0.444 -0.754  0.449\n",
      "   0.172 -0.368 -0.115 -0.261  0.27  -0.136  0.201  0.308 -0.165  0.456\n",
      "  -0.174  0.092  0.177  0.213  0.124  0.079 -0.467 -0.09   0.106 -0.385\n",
      "  -0.085 -0.219 -0.325 -0.469 -0.18   0.313 -0.604  0.233 -0.534]]\n",
      "WARNING:tensorflow:5 out of the last 5 calls to <function Model.make_predict_function.<locals>.predict_function at 0x000001374A0BF3A0> triggered tf.function retracing. Tracing is expensive and the excessive number of tracings could be due to (1) creating @tf.function repeatedly in a loop, (2) passing tensors with different shapes, (3) passing Python objects instead of tensors. For (1), please define your @tf.function outside of the loop. For (2), @tf.function has experimental_relax_shapes=True option that relaxes argument shapes that can avoid unnecessary retracing. For (3), please refer to https://www.tensorflow.org/guide/function#controlling_retracing and https://www.tensorflow.org/api_docs/python/tf/function for  more details.\n",
      "WARNING:tensorflow:6 out of the last 6 calls to <function Model.make_predict_function.<locals>.predict_function at 0x000001374A0EE280> triggered tf.function retracing. Tracing is expensive and the excessive number of tracings could be due to (1) creating @tf.function repeatedly in a loop, (2) passing tensors with different shapes, (3) passing Python objects instead of tensors. For (1), please define your @tf.function outside of the loop. For (2), @tf.function has experimental_relax_shapes=True option that relaxes argument shapes that can avoid unnecessary retracing. For (3), please refer to https://www.tensorflow.org/guide/function#controlling_retracing and https://www.tensorflow.org/api_docs/python/tf/function for  more details.\n"
     ]
    },
    {
     "data": {
      "text/plain": [
       "{'cls': 'rogue',\n",
       " 'alignment': 'chaotic good',\n",
       " 'race': 'dragonborn',\n",
       " 'background': 'charlatan',\n",
       " 'str': 9,\n",
       " 'dex': 15,\n",
       " 'con': 13,\n",
       " 'int': 12,\n",
       " 'wis': 14,\n",
       " 'cha': 12}"
      ]
     },
     "execution_count": 2,
     "metadata": {},
     "output_type": "execute_result"
    }
   ],
   "source": [
    "e.generate_character('rogue')"
   ]
  },
  {
   "cell_type": "code",
   "execution_count": 3,
   "metadata": {
    "scrolled": false
   },
   "outputs": [
    {
     "name": "stdout",
     "output_type": "stream",
     "text": [
      "Models loaded\n",
      "[[-0.129 -0.093  0.104  0.351 -0.18  -0.197 -0.1   -0.601 -0.414]]\n",
      "[[-0.355  0.322 -0.416 -0.092 -0.041 -0.499 -0.144 -0.017 -0.071  0.474\n",
      "  -0.279 -0.078 -0.106 -0.215 -0.308  0.197 -0.237 -0.052 -0.118 -0.474\n",
      "  -0.086 -0.413 -0.147 -0.465 -0.23   0.453  0.233  0.455 -0.089 -0.049\n",
      "  -0.267 -0.136 -0.48  -0.133  0.069 -0.018 -0.246 -0.006  0.104 -0.594\n",
      "  -0.284 -0.368 -0.391 -0.113 -0.016 -0.286 -0.096 -0.008  0.201  0.091\n",
      "   0.136 -0.111 -0.445 -0.37   0.932 -0.259  0.196 -0.094 -0.402 -0.464\n",
      "  -0.065 -0.301]]\n",
      "[[ 0.046  0.628  0.545 -0.353  0.128 -0.646  0.194 -0.436  0.297 -0.074\n",
      "   0.334  0.474  0.021  0.402 -0.199 -0.272  0.252 -0.619  0.607 -0.217\n",
      "   0.447 -0.707 -0.275 -0.248 -0.126  0.373 -0.353 -0.006 -0.742  0.373\n",
      "  -0.185 -0.823 -0.449 -0.211  0.308 -0.289  0.311  0.323 -0.603  0.441\n",
      "  -0.285  0.083  0.632  0.25  -0.012  0.026 -0.199  0.096  0.008 -0.5\n",
      "  -0.144 -0.205 -0.392 -0.5   -0.267  0.412 -0.551  0.061 -0.348]]\n"
     ]
    },
    {
     "data": {
      "text/plain": [
       "{'cls': 'cleric',\n",
       " 'alignment': 'lawful neutral',\n",
       " 'race': 'tiefling',\n",
       " 'background': 'outlander',\n",
       " 'str': 14,\n",
       " 'dex': 12,\n",
       " 'con': 13,\n",
       " 'int': 9,\n",
       " 'wis': 15,\n",
       " 'cha': 12}"
      ]
     },
     "execution_count": 3,
     "metadata": {},
     "output_type": "execute_result"
    }
   ],
   "source": [
    "e.generate_character('cleric')"
   ]
  },
  {
   "cell_type": "code",
   "execution_count": 4,
   "metadata": {
    "scrolled": false
   },
   "outputs": [
    {
     "name": "stdout",
     "output_type": "stream",
     "text": [
      "Models loaded\n",
      "[[ 0.112  0.551 -0.087  0.215 -0.286  0.393 -0.281 -0.416 -0.291]]\n",
      "[[-0.04  -0.372 -0.244  0.006  0.025 -0.616  0.088 -0.204 -0.104  0.438\n",
      "  -0.188 -0.144 -0.08  -0.035 -0.171 -0.    -0.292 -0.136  0.094  0.004\n",
      "  -0.017  0.04  -0.067 -0.077 -0.036  0.054 -0.035  0.364  0.028  0.171\n",
      "  -0.004  0.02  -0.094  0.119 -0.307 -0.043 -0.097 -0.027 -0.282  0.025\n",
      "  -0.002 -0.175 -0.065  0.165 -0.039 -0.144 -0.015 -0.184  0.115  0.182\n",
      "   0.078 -0.228 -0.278 -0.194  0.386 -0.203 -0.014 -0.157  0.03  -0.031\n",
      "  -0.133 -0.589]]\n",
      "[[ 0.445 -0.204  0.299 -0.339 -0.323 -0.365  0.029 -0.246  0.324  0.092\n",
      "   0.113  0.117  0.166  0.535 -0.432 -0.139  0.212 -0.254  0.322 -0.273\n",
      "   0.269 -0.655 -0.128 -0.031 -0.393  0.453 -0.253  0.337 -0.466  0.342\n",
      "  -0.164 -0.479 -0.415 -0.104  0.254  0.003  0.092  0.118 -0.194  0.228\n",
      "   0.141  0.473  0.121  0.158 -0.208  0.156 -0.411 -0.366  0.214 -0.566\n",
      "  -0.006 -0.313 -0.461 -0.686 -0.278  0.273 -0.261  0.1   -0.325]]\n"
     ]
    },
    {
     "data": {
      "text/plain": [
       "{'cls': 'druid',\n",
       " 'alignment': 'neutral good',\n",
       " 'race': 'dragonborn',\n",
       " 'background': 'criminal',\n",
       " 'str': 11,\n",
       " 'dex': 14,\n",
       " 'con': 13,\n",
       " 'int': 12,\n",
       " 'wis': 15,\n",
       " 'cha': 10}"
      ]
     },
     "execution_count": 4,
     "metadata": {},
     "output_type": "execute_result"
    }
   ],
   "source": [
    "e.generate_character('druid')"
   ]
  },
  {
   "cell_type": "code",
   "execution_count": 5,
   "metadata": {},
   "outputs": [
    {
     "data": {
      "text/plain": [
       "[]"
      ]
     },
     "execution_count": 5,
     "metadata": {},
     "output_type": "execute_result"
    }
   ],
   "source": [
    "e.data_list.background_list"
   ]
  },
  {
   "cell_type": "code",
   "execution_count": null,
   "metadata": {},
   "outputs": [],
   "source": []
  },
  {
   "cell_type": "code",
   "execution_count": null,
   "metadata": {},
   "outputs": [],
   "source": []
  }
 ],
 "metadata": {
  "kernelspec": {
   "display_name": "Python 3",
   "language": "python",
   "name": "python3"
  },
  "language_info": {
   "codemirror_mode": {
    "name": "ipython",
    "version": 3
   },
   "file_extension": ".py",
   "mimetype": "text/x-python",
   "name": "python",
   "nbconvert_exporter": "python",
   "pygments_lexer": "ipython3",
   "version": "3.9.7"
  }
 },
 "nbformat": 4,
 "nbformat_minor": 4
}
