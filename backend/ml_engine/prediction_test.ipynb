{
 "cells": [
  {
   "cell_type": "code",
   "execution_count": 2,
   "metadata": {},
   "outputs": [],
   "source": [
    "import Engine as e\n",
    "from pprint import pprint"
   ]
  },
  {
   "cell_type": "code",
   "execution_count": null,
   "metadata": {
    "scrolled": false
   },
   "outputs": [],
   "source": [
    "e.generate_character('barbarian', race=\"human\", level=1)"
   ]
  },
  {
   "cell_type": "code",
   "execution_count": null,
   "metadata": {
    "scrolled": false
   },
   "outputs": [],
   "source": [
    "e.generate_character('cleric')"
   ]
  },
  {
   "cell_type": "code",
   "execution_count": null,
   "metadata": {
    "scrolled": true
   },
   "outputs": [],
   "source": [
    "e.generate_character('rogue', alignment='chaotic evil', race='half-elf')"
   ]
  },
  {
   "cell_type": "code",
   "execution_count": null,
   "metadata": {},
   "outputs": [],
   "source": [
    "e.data_list.background_list"
   ]
  },
  {
   "cell_type": "code",
   "execution_count": null,
   "metadata": {},
   "outputs": [],
   "source": [
    "e.generate_character('wizard')"
   ]
  },
  {
   "cell_type": "code",
   "execution_count": null,
   "metadata": {},
   "outputs": [],
   "source": [
    "e.generate_character('paladin')"
   ]
  },
  {
   "cell_type": "code",
   "execution_count": null,
   "metadata": {
    "scrolled": true
   },
   "outputs": [],
   "source": [
    "e.generate_character('cleric', alignment=4, level=10)"
   ]
  },
  {
   "cell_type": "code",
   "execution_count": null,
   "metadata": {
    "scrolled": true
   },
   "outputs": [],
   "source": [
    "e.generate_character('warlock', alignment='chaotic good', level=3)"
   ]
  },
  {
   "cell_type": "code",
   "execution_count": 3,
   "metadata": {
    "scrolled": true
   },
   "outputs": [
    {
     "name": "stdout",
     "output_type": "stream",
     "text": [
      "WARNING:tensorflow:5 out of the last 5 calls to <function Model.make_predict_function.<locals>.predict_function at 0x00000295E2575D30> triggered tf.function retracing. Tracing is expensive and the excessive number of tracings could be due to (1) creating @tf.function repeatedly in a loop, (2) passing tensors with different shapes, (3) passing Python objects instead of tensors. For (1), please define your @tf.function outside of the loop. For (2), @tf.function has experimental_relax_shapes=True option that relaxes argument shapes that can avoid unnecessary retracing. For (3), please refer to https://www.tensorflow.org/guide/function#controlling_retracing and https://www.tensorflow.org/api_docs/python/tf/function for  more details.\n",
      "WARNING:tensorflow:6 out of the last 6 calls to <function Model.make_predict_function.<locals>.predict_function at 0x00000295E263BB80> triggered tf.function retracing. Tracing is expensive and the excessive number of tracings could be due to (1) creating @tf.function repeatedly in a loop, (2) passing tensors with different shapes, (3) passing Python objects instead of tensors. For (1), please define your @tf.function outside of the loop. For (2), @tf.function has experimental_relax_shapes=True option that relaxes argument shapes that can avoid unnecessary retracing. For (3), please refer to https://www.tensorflow.org/guide/function#controlling_retracing and https://www.tensorflow.org/api_docs/python/tf/function for  more details.\n",
      "['Cantrip', 'Level 1', 'Level 2', 'Level 3', 'Level 4', 'Level 5', 'Level 6', 'Level 7', 'Level 8', 'Level 9']\n",
      "{'Maze', 'Alter Self', 'Darkness', 'Fear', 'Blade Barrier', 'Banishment', 'Conjure Celestial', 'Zone of Truth', 'Speak with Plants', 'Compulsion', 'Programmed Illusion', 'Meteor Swarm', 'See Invisibility', 'Incendiary Cloud', 'Resistance', 'Wall of Stone', 'Shield of Faith', 'Dominate Monster', 'Prestidigitation', 'Protection from Evil and Good', 'Moonbeam', 'Polymorph', 'Message', 'Augury', 'Blight', 'Lesser Restoration', 'Imprisonment', 'Storm of Vengeance', 'Telepathic Bond', 'Glyph of Warding', 'Etherealness', \"Heroes' Feast\", 'Create Undead', 'Light', 'Hellish Rebuke', 'Fire Storm', 'Eyebite', 'Pass without Trace', 'Dispel Magic', 'Hallow', 'Protection from Poison', 'Sanctuary', 'Passwall', 'Sunburst', 'Shocking Grasp', 'Counterspell', 'Silent Image', 'Minor Illusion', 'Wall of Force', 'Resurrection', 'Flame Blade', 'Animate Dead', 'Remove Curse', 'Hallucinatory Terrain', 'Hold Person', 'Wish', 'Word of Recall', 'Thunderwave', 'Gate', 'Private Sanctum', 'Alarm', 'Wind Wall', 'Foresight', 'Shillelagh', 'Freedom of Movement', 'Disguise Self', 'Finger of Death', 'Rope Trick', 'Hypnotic Pattern', 'Floating Disk', 'Holy Aura', 'Mislead', 'Power Word Kill', 'Charm Person', 'Branding Smite', 'Locate Animals or Plants', 'Prismatic Spray', 'Fabricate', 'Feather Fall', 'Planar Ally', 'Calm Emotions', 'Enthrall', 'Antimagic Field', 'Forbiddance', 'Command', 'Sleet Storm', 'Resilient Sphere', 'Shatter', 'Fireball', 'Astral Projection', 'Aid', 'Spare the Dying', 'Spike Growth', 'Spiritual Weapon', 'Forcecage', 'Magic Circle', 'Demiplane', 'Flesh to Stone', 'Produce Flame', 'Chain Lightning', 'Antilife Shell', 'Insect Plague', 'Purify Food and Drink', 'Teleport', 'Ray of Frost', 'Reverse Gravity', 'Bane', 'Geas', 'Secret Chest', 'Healing Word', 'Clairvoyance', 'Protection from Energy', 'Project Image', 'Ice Storm', 'Grease', 'Sunbeam', 'Create Food and Water', 'Contingency', 'Feeblemind', 'Major Image', 'Fly', 'Symbol', 'Cone of Cold', 'Flaming Sphere', 'Sacred Flame', 'Arcane Lock', 'Darkvision', 'Stinking Cloud', 'Mirage Arcane', 'Continual Flame', 'Divination', 'Stoneskin', 'Mage Armor', 'Greater Restoration', 'Silence', 'Locate Object', 'Druidcraft', 'Ray of Enfeeblement', 'True Polymorph', 'Find Traps', 'Animate Objects', 'Find the Path', 'Water Breathing', 'Conjure Elemental', 'Wall of Thorns', 'Lightning Bolt', 'Faithful Hound', 'Contact Other Plane', 'Heal', 'Poison Spray', 'Move Earth', 'Glibness', 'Awaken', 'Eldritch Blast', 'Thaumaturgy', 'Disintegrate', 'Simulacrum', 'Fire Shield', 'Hold Monster', 'Prismatic Wall', 'Faerie Fire', 'Fog Cloud', 'Legend Lore', 'Black Tentacles', 'Wind Walk', 'Seeming', 'Dancing Lights', 'Cloudkill', 'Suggestion', 'Misty Step', \"Hunter's Mark\", 'Arcane Sword', 'Dominate Beast', 'Scrying', 'Tiny Hut', 'Clone', 'Divine Favor', 'Mind Blank', 'Sleep', 'Control Weather', 'Inflict Wounds', 'Giant Insect', 'Acid Arrow', 'Sending', 'Guards and Wards', 'Daylight', 'Wall of Fire', 'Dream', 'Earthquake', 'Weird', 'Unseen Servant', 'Acid Splash', 'Detect Thoughts', 'Modify Memory', 'Arcane Eye', 'Detect Poison and Disease', 'Magic Weapon', 'Haste', 'Mage Hand', 'Mass Heal', 'Guiding Bolt', 'Animal Messenger', 'Warding Bond', 'Prayer of Healing', 'Bestow Curse', 'Magnificent Mansion', 'Longstrider', 'True Strike', 'Find Familiar', 'Raise Dead', 'Instant Summons', 'True Seeing', 'Mass Suggestion', 'Conjure Animals', 'Invisibility', 'Scorching Ray', 'Mending', 'Slow', 'Animal Friendship', 'Knock', 'Locate Creature', 'Illusory Script', 'Burning Hands', 'Teleportation Circle', 'Power Word Stun', 'Dispel Evil and Good', 'Conjure Fey', 'Tree Stride', 'Gaseous Form', 'Revivify', 'Barkskin', 'Commune with Nature', 'Phantom Steed', 'Spirit Guardians', \"Arcanist's Magic Aura\", 'Find Steed', 'Enhance Ability', 'Hideous Laughter', 'Irresistible Dance', 'False Life', 'Tongues', 'Mass Cure Wounds', 'Vampiric Touch', 'Plane Shift', 'Blink', 'Speak with Animals', 'Delayed Blast Fireball', 'Greater Invisibility', 'Conjure Minor Elementals', 'Chill Touch', 'Color Spray', 'Magic Missile', 'Speak with Dead', 'Contagion', 'Transport via Plants', 'Nondetection', 'Entangle', 'Confusion', 'Phantasmal Killer', 'Mirror Image', 'Magic Jar', 'Meld into Stone', 'Expeditious Retreat', 'Heroism', 'Arcane Hand', 'Flame Strike', 'Comprehend Languages', 'Globe of Invulnerability', 'Planar Binding', 'Wall of Ice', 'Time Stop', 'Mass Healing Word', 'Telekinesis', 'Cure Wounds', 'Guidance', 'Circle of Death', 'Dominate Person', 'Bless', 'Plant Growth', 'Beacon of Hope', 'Regenerate', 'Detect Evil and Good', 'Jump', 'Animal Shapes', 'Call Lightning', 'Conjure Woodland Beings', 'Control Water', 'Heat Metal', 'True Resurrection', 'Reincarnate', 'Freezing Sphere', 'Vicious Mockery', 'Gust of Wind', 'Fire Bolt', 'Magic Mouth', 'Web', 'Detect Magic', 'Levitate', 'Identify', 'Death Ward', 'Sequester', 'Divine Word', 'Blur', 'Shield', 'Creation', 'Water Walk', 'Harm', 'Spider Climb', 'Commune', 'Shapechange', 'Gentle Repose', 'Dimension Door', 'Create or Destroy Water', 'Guardian of Faith', 'Stone Shape', 'Goodberry'}\n"
     ]
    },
    {
     "name": "stderr",
     "output_type": "stream",
     "text": [
      "c:\\users\\alex\\appdata\\local\\programs\\python\\python39\\lib\\site-packages\\keras\\engine\\functional.py:582: UserWarning: Input dict contained keys ['race'] which did not match any model input. They will be ignored by the model.\n",
      "  warnings.warn(\n"
     ]
    },
    {
     "data": {
      "text/plain": [
       "{'alignment': 4,\n",
       " 'race': 'dragonborn',\n",
       " 'background': 'gladiator',\n",
       " 'name': '',\n",
       " 'clss': 'bard',\n",
       " 'level': 10,\n",
       " 'experience_points': 0,\n",
       " 'inspiration': 0,\n",
       " 'abilities': {'strength': 11,\n",
       "  'dexterity': 20,\n",
       "  'constitution': 13,\n",
       "  'intelligence': 20,\n",
       "  'wisdom': 15,\n",
       "  'charisma': 20},\n",
       " 'hit_dice': 8,\n",
       " 'max_hp': 161,\n",
       " 'proficiency_bonus': 4,\n",
       " 'passive_wisdom': 0,\n",
       " 'armor_class': 15,\n",
       " 'initiative': 5,\n",
       " 'cur_hp': 161,\n",
       " 'temp_hp': 0,\n",
       " 'death_save_success': 0,\n",
       " 'death_save_failure': 0,\n",
       " 'speed': 30,\n",
       " 'height': '7 ft',\n",
       " 'weight': '260 lbs',\n",
       " 'age': 71,\n",
       " 'eyes': 'brown',\n",
       " 'traits': '',\n",
       " 'ideals': '',\n",
       " 'bonds': '',\n",
       " 'flaws': '',\n",
       " 'backstory': '',\n",
       " 'dark_gifts': '',\n",
       " 'features': '',\n",
       " 'allies': '',\n",
       " 'treasure': '',\n",
       " 'notes': '',\n",
       " 'features_and_traits': 'Draconic Ancestry, Breath Weapon, Damage Resistance, Spellcasting, Bardic Inspiration',\n",
       " 'other_proficiencies_skills': 'light armor, simple weapons, hand crossbows, longswords, rapiers, shortswords, musical instruments',\n",
       " 'equipment': ['rapier',\n",
       "  \"entertainer's pack\",\n",
       "  'lute',\n",
       "  'leather armor',\n",
       "  'dagger'],\n",
       " 'attacks': 'rapier, lute, dagger',\n",
       " 'saving': {'strength': False,\n",
       "  'dexterity': True,\n",
       "  'constitution': False,\n",
       "  'intelligence': False,\n",
       "  'wisdom': False,\n",
       "  'charisma': True},\n",
       " 'skills': {'acrobatics': True,\n",
       "  'animal_handling': False,\n",
       "  'arcana': False,\n",
       "  'athletics': False,\n",
       "  'deception': False,\n",
       "  'history': True,\n",
       "  'insight': False,\n",
       "  'intimidation': True,\n",
       "  'investigation': False,\n",
       "  'medicine': False,\n",
       "  'nature': False,\n",
       "  'perception': False,\n",
       "  'performance': False,\n",
       "  'persuasion': False,\n",
       "  'religion': False,\n",
       "  'sleight_of_hand': False,\n",
       "  'stealth': False,\n",
       "  'survival': False},\n",
       " 'spells': {'spellcast_ability': 'charisma',\n",
       "  'spell_save_dc': 17,\n",
       "  'spell_attack_bonus': 9,\n",
       "  'by_level': [{'slots': 2,\n",
       "    'spells': [{'name': 'Mending', 'charges': 3},\n",
       "     {'name': 'True Strike', 'charges': 1}]},\n",
       "   {'slots': 2,\n",
       "    'spells': [{'name': 'Cure Wounds', 'charges': 4},\n",
       "     {'name': 'Comprehend Languages', 'charges': 5}]},\n",
       "   {'slots': 0, 'spells': []},\n",
       "   {'slots': 0, 'spells': []},\n",
       "   {'slots': 0, 'spells': []},\n",
       "   {'slots': 0, 'spells': []},\n",
       "   {'slots': 0, 'spells': []},\n",
       "   {'slots': 0, 'spells': []},\n",
       "   {'slots': 0, 'spells': []},\n",
       "   {'slots': 0, 'spells': []},\n",
       "   {'slots': 0, 'spells': []}]}}"
      ]
     },
     "execution_count": 3,
     "metadata": {},
     "output_type": "execute_result"
    }
   ],
   "source": [
    "e.generate_character('bard', alignment=4, level=10)"
   ]
  },
  {
   "cell_type": "code",
   "execution_count": 4,
   "metadata": {},
   "outputs": [
    {
     "name": "stderr",
     "output_type": "stream",
     "text": [
      "c:\\users\\alex\\appdata\\local\\programs\\python\\python39\\lib\\site-packages\\keras\\engine\\functional.py:582: UserWarning: Input dict contained keys ['race'] which did not match any model input. They will be ignored by the model.\n",
      "  warnings.warn(\n"
     ]
    },
    {
     "data": {
      "text/plain": [
       "{'alignment': 7,\n",
       " 'race': 'tiefling',\n",
       " 'background': 'cloistered scholar',\n",
       " 'name': '',\n",
       " 'clss': 'monk',\n",
       " 'level': 1,\n",
       " 'experience_points': 0,\n",
       " 'inspiration': 0,\n",
       " 'abilities': {'strength': 12,\n",
       "  'dexterity': 15,\n",
       "  'constitution': 13,\n",
       "  'intelligence': 11,\n",
       "  'wisdom': 14,\n",
       "  'charisma': 10},\n",
       " 'hit_dice': 8,\n",
       " 'max_hp': 8,\n",
       " 'proficiency_bonus': 2,\n",
       " 'passive_wisdom': 0,\n",
       " 'armor_class': 12,\n",
       " 'initiative': 2,\n",
       " 'cur_hp': 8,\n",
       " 'temp_hp': 0,\n",
       " 'death_save_success': 0,\n",
       " 'death_save_failure': 0,\n",
       " 'speed': 30,\n",
       " 'height': '6 ft',\n",
       " 'weight': '195 lbs',\n",
       " 'age': 59,\n",
       " 'eyes': 'brown',\n",
       " 'traits': '',\n",
       " 'ideals': '',\n",
       " 'bonds': '',\n",
       " 'flaws': '',\n",
       " 'backstory': '',\n",
       " 'dark_gifts': '',\n",
       " 'features': '',\n",
       " 'allies': '',\n",
       " 'treasure': '',\n",
       " 'notes': '',\n",
       " 'features_and_traits': 'Darkvision, Hellish Resistance, Unarmored Defense, Martial Arts',\n",
       " 'other_proficiencies_skills': 'simple weapons, shortswords',\n",
       " 'equipment': ['shortsword', \"explorer's pack\", 'darts *10'],\n",
       " 'attacks': 'shortsword',\n",
       " 'saving': {'strength': True,\n",
       "  'dexterity': True,\n",
       "  'constitution': False,\n",
       "  'intelligence': False,\n",
       "  'wisdom': False,\n",
       "  'charisma': False},\n",
       " 'skills': {'acrobatics': False,\n",
       "  'animal_handling': False,\n",
       "  'arcana': False,\n",
       "  'athletics': False,\n",
       "  'deception': False,\n",
       "  'history': True,\n",
       "  'insight': True,\n",
       "  'intimidation': False,\n",
       "  'investigation': False,\n",
       "  'medicine': False,\n",
       "  'nature': False,\n",
       "  'perception': False,\n",
       "  'performance': False,\n",
       "  'persuasion': False,\n",
       "  'religion': False,\n",
       "  'sleight_of_hand': False,\n",
       "  'stealth': False,\n",
       "  'survival': False},\n",
       " 'spells': {'spellcast_ability': 'strength',\n",
       "  'spell_save_dc': 11,\n",
       "  'spell_attack_bonus': 3,\n",
       "  'by_level': [{'slots': 0, 'spells': []},\n",
       "   {'slots': 0, 'spells': []},\n",
       "   {'slots': 0, 'spells': []},\n",
       "   {'slots': 0, 'spells': []},\n",
       "   {'slots': 0, 'spells': []},\n",
       "   {'slots': 0, 'spells': []},\n",
       "   {'slots': 0, 'spells': []},\n",
       "   {'slots': 0, 'spells': []},\n",
       "   {'slots': 0, 'spells': []},\n",
       "   {'slots': 0, 'spells': []},\n",
       "   {'slots': 0, 'spells': []}]}}"
      ]
     },
     "execution_count": 4,
     "metadata": {},
     "output_type": "execute_result"
    }
   ],
   "source": [
    "e.generate_character('monk')"
   ]
  },
  {
   "cell_type": "code",
   "execution_count": null,
   "metadata": {},
   "outputs": [],
   "source": []
  }
 ],
 "metadata": {
  "kernelspec": {
   "display_name": "Python 3",
   "language": "python",
   "name": "python3"
  },
  "language_info": {
   "codemirror_mode": {
    "name": "ipython",
    "version": 3
   },
   "file_extension": ".py",
   "mimetype": "text/x-python",
   "name": "python",
   "nbconvert_exporter": "python",
   "pygments_lexer": "ipython3",
   "version": "3.9.7"
  }
 },
 "nbformat": 4,
 "nbformat_minor": 4
}
