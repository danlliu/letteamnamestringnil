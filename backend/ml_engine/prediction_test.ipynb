{
 "cells": [
  {
   "cell_type": "code",
   "execution_count": 1,
   "metadata": {},
   "outputs": [],
   "source": [
    "import Engine as e\n",
    "from pprint import pprint"
   ]
  },
  {
   "cell_type": "code",
   "execution_count": null,
   "metadata": {
    "scrolled": false
   },
   "outputs": [],
   "source": [
    "e.generate_character('barbarian', race=\"human\", level=1)"
   ]
  },
  {
   "cell_type": "code",
   "execution_count": 2,
   "metadata": {
    "scrolled": false
   },
   "outputs": [
    {
     "name": "stdout",
     "output_type": "stream",
     "text": [
      "WARNING:tensorflow:5 out of the last 5 calls to <function Model.make_predict_function.<locals>.predict_function at 0x000001F32D66D1F0> triggered tf.function retracing. Tracing is expensive and the excessive number of tracings could be due to (1) creating @tf.function repeatedly in a loop, (2) passing tensors with different shapes, (3) passing Python objects instead of tensors. For (1), please define your @tf.function outside of the loop. For (2), @tf.function has experimental_relax_shapes=True option that relaxes argument shapes that can avoid unnecessary retracing. For (3), please refer to https://www.tensorflow.org/guide/function#controlling_retracing and https://www.tensorflow.org/api_docs/python/tf/function for  more details.\n",
      "WARNING:tensorflow:6 out of the last 6 calls to <function Model.make_predict_function.<locals>.predict_function at 0x000001F32D72D160> triggered tf.function retracing. Tracing is expensive and the excessive number of tracings could be due to (1) creating @tf.function repeatedly in a loop, (2) passing tensors with different shapes, (3) passing Python objects instead of tensors. For (1), please define your @tf.function outside of the loop. For (2), @tf.function has experimental_relax_shapes=True option that relaxes argument shapes that can avoid unnecessary retracing. For (3), please refer to https://www.tensorflow.org/guide/function#controlling_retracing and https://www.tensorflow.org/api_docs/python/tf/function for  more details.\n"
     ]
    },
    {
     "name": "stderr",
     "output_type": "stream",
     "text": [
      "c:\\users\\alex\\appdata\\local\\programs\\python\\python39\\lib\\site-packages\\keras\\engine\\functional.py:582: UserWarning: Input dict contained keys ['race'] which did not match any model input. They will be ignored by the model.\n",
      "  warnings.warn(\n"
     ]
    },
    {
     "data": {
      "text/plain": [
       "{'alignment': 3,\n",
       " 'race': 'tiefling',\n",
       " 'background': 'sailor',\n",
       " 'name': '',\n",
       " 'clss': 'cleric',\n",
       " 'level': 1,\n",
       " 'experience_points': 0,\n",
       " 'inspiration': 0,\n",
       " 'abilities': {'strength': 14,\n",
       "  'dexterity': 12,\n",
       "  'constitution': 13,\n",
       "  'intelligence': 9,\n",
       "  'wisdom': 15,\n",
       "  'charisma': 12},\n",
       " 'hit_dice': 8,\n",
       " 'max_hp': 8,\n",
       " 'proficiency_bonus': 2,\n",
       " 'passive_wisdom': 0,\n",
       " 'armor_class': 11,\n",
       " 'initiative': 1,\n",
       " 'cur_hp': 8,\n",
       " 'temp_hp': 0,\n",
       " 'death_save_success': 0,\n",
       " 'death_save_failure': 0,\n",
       " 'speed': 30,\n",
       " 'height': '6 ft',\n",
       " 'weight': '195 lbs',\n",
       " 'age': 76,\n",
       " 'eyes': 'brown',\n",
       " 'traits': '',\n",
       " 'ideals': '',\n",
       " 'bonds': '',\n",
       " 'flaws': '',\n",
       " 'backstory': '',\n",
       " 'dark_gifts': '',\n",
       " 'features': '',\n",
       " 'allies': '',\n",
       " 'treasure': '',\n",
       " 'notes': '',\n",
       " 'features_and_traits': 'Darkvision, Hellish Resistance, Spellcasting, Divine Domain',\n",
       " 'other_proficiencies_skills': 'light armor, medium armor, shields, simple weapons',\n",
       " 'equipment': \"mace, scale mail, light crossbow, bolt *20, explorer's pack, shield, holy symbol\",\n",
       " 'attacks': '',\n",
       " 'saving': {'strength': False,\n",
       "  'dexterity': False,\n",
       "  'constitution': False,\n",
       "  'intelligence': False,\n",
       "  'wisdom': True,\n",
       "  'charisma': True},\n",
       " 'skills': {'acrobatics': False,\n",
       "  'animal_handling': False,\n",
       "  'arcana': False,\n",
       "  'athletics': False,\n",
       "  'deception': False,\n",
       "  'history': True,\n",
       "  'insight': True,\n",
       "  'intimidation': False,\n",
       "  'investigation': False,\n",
       "  'medicine': False,\n",
       "  'nature': False,\n",
       "  'perception': False,\n",
       "  'performance': False,\n",
       "  'persuasion': False,\n",
       "  'religion': False,\n",
       "  'sleight_of_hand': False,\n",
       "  'stealth': False,\n",
       "  'survival': False},\n",
       " 'spells': {'spellcast_ability': 'wisdom',\n",
       "  'spell_save_dc': 12,\n",
       "  'spell_attack_bonus': 4,\n",
       "  'by_level': [{'slots': 3,\n",
       "    'spells': [{'name': 'Guidance', 'charges': 3},\n",
       "     {'name': 'Light', 'charges': 4},\n",
       "     {'name': 'Resistance', 'charges': 4}]},\n",
       "   {'slots': 2,\n",
       "    'spells': [{'name': 'Bane', 'charges': 5},\n",
       "     {'name': 'Purify Food and Drink', 'charges': 2}]},\n",
       "   {'slots': 0, 'spells': []},\n",
       "   {'slots': 0, 'spells': []},\n",
       "   {'slots': 0, 'spells': []},\n",
       "   {'slots': 0, 'spells': []},\n",
       "   {'slots': 0, 'spells': []},\n",
       "   {'slots': 0, 'spells': []},\n",
       "   {'slots': 0, 'spells': []},\n",
       "   {'slots': 0, 'spells': []},\n",
       "   {'slots': 0, 'spells': []}]}}"
      ]
     },
     "execution_count": 2,
     "metadata": {},
     "output_type": "execute_result"
    }
   ],
   "source": [
    "e.generate_character('cleric')"
   ]
  },
  {
   "cell_type": "code",
   "execution_count": null,
   "metadata": {
    "scrolled": true
   },
   "outputs": [],
   "source": [
    "e.generate_character('rogue', alignment='chaotic evil', race='half-elf')"
   ]
  },
  {
   "cell_type": "code",
   "execution_count": null,
   "metadata": {},
   "outputs": [],
   "source": [
    "e.data_list.background_list"
   ]
  },
  {
   "cell_type": "code",
   "execution_count": null,
   "metadata": {},
   "outputs": [],
   "source": [
    "e.generate_character('wizard')"
   ]
  },
  {
   "cell_type": "code",
   "execution_count": null,
   "metadata": {},
   "outputs": [],
   "source": [
    "e.generate_character('paladin')"
   ]
  },
  {
   "cell_type": "code",
   "execution_count": null,
   "metadata": {
    "scrolled": true
   },
   "outputs": [],
   "source": [
    "e.generate_character('cleric', alignment=4, level=10)"
   ]
  },
  {
   "cell_type": "code",
   "execution_count": null,
   "metadata": {
    "scrolled": true
   },
   "outputs": [],
   "source": [
    "e.generate_character('warlock', alignment='chaotic good', level=3)"
   ]
  },
  {
   "cell_type": "code",
   "execution_count": null,
   "metadata": {
    "scrolled": true
   },
   "outputs": [],
   "source": [
    "e.generate_character('bard', alignment=4, level=10)"
   ]
  },
  {
   "cell_type": "code",
   "execution_count": null,
   "metadata": {},
   "outputs": [],
   "source": [
    "e.generate_character('monk')"
   ]
  },
  {
   "cell_type": "code",
   "execution_count": null,
   "metadata": {},
   "outputs": [],
   "source": [
    "e.generate_character('ranger')"
   ]
  },
  {
   "cell_type": "code",
   "execution_count": null,
   "metadata": {},
   "outputs": [],
   "source": [
    "e.generate_character('sorcerer')"
   ]
  },
  {
   "cell_type": "code",
   "execution_count": null,
   "metadata": {},
   "outputs": [],
   "source": [
    "e.generate_character('fighter')"
   ]
  },
  {
   "cell_type": "code",
   "execution_count": null,
   "metadata": {},
   "outputs": [],
   "source": []
  }
 ],
 "metadata": {
  "kernelspec": {
   "display_name": "Python 3",
   "language": "python",
   "name": "python3"
  },
  "language_info": {
   "codemirror_mode": {
    "name": "ipython",
    "version": 3
   },
   "file_extension": ".py",
   "mimetype": "text/x-python",
   "name": "python",
   "nbconvert_exporter": "python",
   "pygments_lexer": "ipython3",
   "version": "3.9.7"
  }
 },
 "nbformat": 4,
 "nbformat_minor": 4
}
