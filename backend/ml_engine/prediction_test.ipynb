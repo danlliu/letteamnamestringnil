{
 "cells": [
  {
   "cell_type": "code",
   "execution_count": 1,
   "metadata": {},
   "outputs": [],
   "source": [
    "import Engine as e\n",
    "from pprint import pprint"
   ]
  },
  {
   "cell_type": "code",
   "execution_count": null,
   "metadata": {
    "scrolled": false
   },
   "outputs": [],
   "source": [
    "e.generate_character('barbarian', race=\"human\", level=1)"
   ]
  },
  {
   "cell_type": "code",
   "execution_count": null,
   "metadata": {
    "scrolled": false
   },
   "outputs": [],
   "source": [
    "e.generate_character('cleric')"
   ]
  },
  {
   "cell_type": "code",
   "execution_count": null,
   "metadata": {
    "scrolled": true
   },
   "outputs": [],
   "source": [
    "e.generate_character('rogue', alignment='chaotic evil', race='half-elf')"
   ]
  },
  {
   "cell_type": "code",
   "execution_count": null,
   "metadata": {},
   "outputs": [],
   "source": [
    "e.data_list.background_list"
   ]
  },
  {
   "cell_type": "code",
   "execution_count": null,
   "metadata": {},
   "outputs": [],
   "source": [
    "e.generate_character('wizard')"
   ]
  },
  {
   "cell_type": "code",
   "execution_count": null,
   "metadata": {},
   "outputs": [],
   "source": [
    "e.generate_character('paladin')"
   ]
  },
  {
   "cell_type": "code",
   "execution_count": null,
   "metadata": {
    "scrolled": true
   },
   "outputs": [],
   "source": [
    "e.generate_character('cleric', alignment=4, level=10)"
   ]
  },
  {
   "cell_type": "code",
   "execution_count": 2,
   "metadata": {
    "scrolled": true
   },
   "outputs": [
    {
     "name": "stdout",
     "output_type": "stream",
     "text": [
      "WARNING:tensorflow:5 out of the last 5 calls to <function Model.make_predict_function.<locals>.predict_function at 0x000001C7CF216310> triggered tf.function retracing. Tracing is expensive and the excessive number of tracings could be due to (1) creating @tf.function repeatedly in a loop, (2) passing tensors with different shapes, (3) passing Python objects instead of tensors. For (1), please define your @tf.function outside of the loop. For (2), @tf.function has experimental_relax_shapes=True option that relaxes argument shapes that can avoid unnecessary retracing. For (3), please refer to https://www.tensorflow.org/guide/function#controlling_retracing and https://www.tensorflow.org/api_docs/python/tf/function for  more details.\n",
      "WARNING:tensorflow:6 out of the last 6 calls to <function Model.make_predict_function.<locals>.predict_function at 0x000001C7CF249160> triggered tf.function retracing. Tracing is expensive and the excessive number of tracings could be due to (1) creating @tf.function repeatedly in a loop, (2) passing tensors with different shapes, (3) passing Python objects instead of tensors. For (1), please define your @tf.function outside of the loop. For (2), @tf.function has experimental_relax_shapes=True option that relaxes argument shapes that can avoid unnecessary retracing. For (3), please refer to https://www.tensorflow.org/guide/function#controlling_retracing and https://www.tensorflow.org/api_docs/python/tf/function for  more details.\n",
      "['Cantrip', 'Level 1', 'Level 2', 'Level 3', 'Level 4', 'Level 5', 'Level 6', 'Level 7', 'Level 8', 'Level 9']\n",
      "{'Freezing Sphere', 'Ray of Frost', 'Conjure Animals', 'Thunderwave', 'Faerie Fire', 'Light', 'Scorching Ray', 'Black Tentacles', 'Create Undead', 'Maze', 'Command', 'Ray of Enfeeblement', 'Clairvoyance', 'Beacon of Hope', 'Spike Growth', 'Cure Wounds', 'Wish', 'Locate Object', 'Arcane Eye', 'Gentle Repose', 'Hellish Rebuke', 'Meld into Stone', 'Glyph of Warding', 'Holy Aura', 'Resurrection', 'Sunburst', 'Blink', 'Death Ward', 'Conjure Celestial', 'Divination', 'Burning Hands', 'Gust of Wind', 'Feeblemind', \"Heroes' Feast\", 'Lesser Restoration', 'Shocking Grasp', 'Haste', 'Inflict Wounds', 'Arcane Hand', 'Banishment', 'Counterspell', 'Guiding Bolt', 'Irresistible Dance', 'Dream', 'Secret Chest', 'Scrying', 'Bless', 'Hypnotic Pattern', 'True Polymorph', 'Moonbeam', 'Dancing Lights', 'Teleportation Circle', 'Druidcraft', 'Protection from Evil and Good', 'Minor Illusion', 'True Strike', 'Commune with Nature', 'Animal Messenger', 'Storm of Vengeance', 'Mirror Image', 'Cloudkill', 'Find the Path', 'Seeming', 'Magic Jar', 'Planar Binding', 'Fire Shield', 'Guardian of Faith', 'Prestidigitation', 'Arcane Lock', 'Find Traps', 'Aid', 'Heal', 'Forcecage', 'Clone', 'Contact Other Plane', 'Mass Healing Word', 'Disintegrate', 'Compulsion', 'Harm', 'Commune', 'Stinking Cloud', 'Expeditious Retreat', 'False Life', 'Foresight', 'Blur', 'True Resurrection', 'Wall of Fire', 'Heroism', \"Hunter's Mark\", 'Conjure Minor Elementals', 'Fly', 'Vampiric Touch', 'Dominate Person', 'Greater Restoration', 'Symbol', 'Acid Splash', 'Mass Heal', 'Tiny Hut', 'Speak with Dead', 'Thaumaturgy', 'Demiplane', 'Remove Curse', 'Stoneskin', 'Dimension Door', 'Speak with Plants', 'Augury', 'Mislead', 'Knock', 'Create or Destroy Water', 'Detect Magic', 'Enhance Ability', 'Flaming Sphere', 'Enthrall', 'Silent Image', 'Slow', 'Hallucinatory Terrain', 'Poison Spray', 'Speak with Animals', 'Arcane Sword', 'Magnificent Mansion', 'Time Stop', 'Dispel Magic', 'Greater Invisibility', 'Message', 'Blight', 'Sleep', 'Pass without Trace', 'Dominate Monster', 'Etherealness', 'Charm Person', 'Project Image', 'Gate', 'Detect Evil and Good', 'Fireball', 'Invisibility', 'Jump', 'Planar Ally', 'Continual Flame', 'Detect Thoughts', 'Resistance', 'Locate Creature', 'Lightning Bolt', 'Polymorph', 'Mind Blank', 'Blade Barrier', 'Calm Emotions', 'Mass Cure Wounds', 'Spiritual Weapon', 'Contagion', 'Eldritch Blast', 'Shillelagh', 'Fire Bolt', 'Shapechange', 'Floating Disk', 'Spare the Dying', 'Transport via Plants', 'Reincarnate', 'Zone of Truth', 'Protection from Poison', 'Power Word Kill', 'Power Word Stun', 'Earthquake', 'Revivify', 'Antilife Shell', 'Hold Monster', 'Instant Summons', 'Animal Shapes', 'Globe of Invulnerability', 'Comprehend Languages', 'Giant Insect', 'Control Water', 'Guards and Wards', 'Tree Stride', 'Word of Recall', 'Dispel Evil and Good', 'Web', 'Unseen Servant', 'Barkskin', 'Suggestion', 'Purify Food and Drink', 'Silence', 'Raise Dead', 'Weird', 'Conjure Woodland Beings', 'True Seeing', 'Heat Metal', 'Mirage Arcane', 'Vicious Mockery', 'Acid Arrow', 'Telekinesis', 'Mage Hand', 'Hideous Laughter', 'Detect Poison and Disease', 'Major Image', 'Eyebite', 'Plane Shift', 'Grease', 'Goodberry', 'Finger of Death', 'Flame Strike', 'Hold Person', 'Sacred Flame', 'Phantom Steed', 'Misty Step', 'Simulacrum', 'Spirit Guardians', \"Arcanist's Magic Aura\", 'Divine Word', 'Awaken', 'Legend Lore', 'Creation', 'Delayed Blast Fireball', 'Healing Word', 'Shield of Faith', 'Wind Walk', 'Chain Lightning', 'Circle of Death', 'Prismatic Wall', 'Magic Weapon', 'Plant Growth', 'Water Walk', 'Private Sanctum', 'Conjure Elemental', 'Disguise Self', 'Antimagic Field', 'Meteor Swarm', 'Bestow Curse', 'Guidance', 'Warding Bond', 'Identify', 'Create Food and Water', 'Fabricate', 'Confusion', 'Tongues', 'Daylight', 'Freedom of Movement', 'Chill Touch', 'Sanctuary', 'Flame Blade', 'Ice Storm', 'Spider Climb', 'Telepathic Bond', 'Wall of Force', 'Color Spray', 'See Invisibility', 'Call Lightning', 'Produce Flame', 'Water Breathing', 'Fire Storm', 'Alter Self', 'Shield', 'Contingency', 'Longstrider', 'Sequester', 'Sunbeam', 'Wall of Stone', 'Astral Projection', 'Fog Cloud', 'Fear', 'Mass Suggestion', 'Cone of Cold', 'Prayer of Healing', 'Teleport', 'Rope Trick', 'Glibness', 'Flesh to Stone', 'Programmed Illusion', 'Insect Plague', 'Geas', 'Sleet Storm', 'Stone Shape', 'Faithful Hound', 'Prismatic Spray', 'Animate Dead', 'Animate Objects', 'Protection from Energy', 'Shatter', 'Forbiddance', 'Bane', 'Find Familiar', 'Divine Favor', 'Darkvision', 'Control Weather', 'Incendiary Cloud', 'Resilient Sphere', 'Levitate', 'Locate Animals or Plants', 'Magic Mouth', 'Entangle', 'Imprisonment', 'Wall of Ice', 'Move Earth', 'Magic Circle', 'Mage Armor', 'Darkness', 'Wind Wall', 'Mending', 'Branding Smite', 'Hallow', 'Conjure Fey', 'Illusory Script', 'Gaseous Form', 'Nondetection', 'Find Steed', 'Modify Memory', 'Wall of Thorns', 'Dominate Beast', 'Alarm', 'Passwall', 'Animal Friendship', 'Reverse Gravity', 'Sending', 'Phantasmal Killer', 'Regenerate', 'Magic Missile', 'Feather Fall'}\n"
     ]
    },
    {
     "name": "stderr",
     "output_type": "stream",
     "text": [
      "c:\\users\\alex\\appdata\\local\\programs\\python\\python39\\lib\\site-packages\\keras\\engine\\functional.py:582: UserWarning: Input dict contained keys ['race'] which did not match any model input. They will be ignored by the model.\n",
      "  warnings.warn(\n"
     ]
    },
    {
     "data": {
      "text/plain": [
       "{'alignment': 2,\n",
       " 'race': 'tiefling',\n",
       " 'background': 'mercenary veteran',\n",
       " 'name': '',\n",
       " 'clss': 'warlock',\n",
       " 'level': 3,\n",
       " 'experience_points': 0,\n",
       " 'inspiration': 0,\n",
       " 'abilities': {'strength': 8,\n",
       "  'dexterity': 16,\n",
       "  'constitution': 15,\n",
       "  'intelligence': 11,\n",
       "  'wisdom': 12,\n",
       "  'charisma': 19},\n",
       " 'hit_dice': 8,\n",
       " 'max_hp': 41,\n",
       " 'proficiency_bonus': 2,\n",
       " 'passive_wisdom': 0,\n",
       " 'armor_class': 13,\n",
       " 'initiative': 3,\n",
       " 'cur_hp': 41,\n",
       " 'temp_hp': 0,\n",
       " 'death_save_success': 0,\n",
       " 'death_save_failure': 0,\n",
       " 'speed': 30,\n",
       " 'height': '6 ft',\n",
       " 'weight': '195 lbs',\n",
       " 'age': 21,\n",
       " 'eyes': 'brown',\n",
       " 'traits': '',\n",
       " 'ideals': '',\n",
       " 'bonds': '',\n",
       " 'flaws': '',\n",
       " 'backstory': '',\n",
       " 'dark_gifts': '',\n",
       " 'features': '',\n",
       " 'allies': '',\n",
       " 'treasure': '',\n",
       " 'notes': '',\n",
       " 'features_and_traits': 'Darkvision, Hellish Resistance, Otherworldly Patron, Pact Magic',\n",
       " 'other_proficiencies_skills': 'light armor, simple weapons',\n",
       " 'equipment': ['dagger',\n",
       "  'dagger',\n",
       "  'component pouch',\n",
       "  \"explorer's pack\",\n",
       "  'leather armor',\n",
       "  'dagger',\n",
       "  'dagger'],\n",
       " 'attacks': 'dagger',\n",
       " 'saving': {'strength': False,\n",
       "  'dexterity': False,\n",
       "  'constitution': False,\n",
       "  'intelligence': False,\n",
       "  'wisdom': True,\n",
       "  'charisma': True},\n",
       " 'skills': {'acrobatics': False,\n",
       "  'animal_handling': False,\n",
       "  'arcana': True,\n",
       "  'athletics': False,\n",
       "  'deception': True,\n",
       "  'history': False,\n",
       "  'insight': False,\n",
       "  'intimidation': False,\n",
       "  'investigation': False,\n",
       "  'medicine': False,\n",
       "  'nature': False,\n",
       "  'perception': False,\n",
       "  'performance': False,\n",
       "  'persuasion': False,\n",
       "  'religion': False,\n",
       "  'sleight_of_hand': False,\n",
       "  'stealth': False,\n",
       "  'survival': False},\n",
       " 'spells': {'spellcast_ability': 'charisma',\n",
       "  'spell_save_dc': 14,\n",
       "  'spell_attack_bonus': 6,\n",
       "  'by_level': [{'slots': 2,\n",
       "    'spells': [{'name': 'True Strike', 'charges': 2},\n",
       "     {'name': 'Prestidigitation', 'charges': 5}]},\n",
       "   {'slots': 2,\n",
       "    'spells': [{'name': 'Charm Person', 'charges': 2},\n",
       "     {'name': 'Illusory Script', 'charges': 3}]},\n",
       "   {'slots': 0, 'spells': []},\n",
       "   {'slots': 0, 'spells': []},\n",
       "   {'slots': 0, 'spells': []},\n",
       "   {'slots': 0, 'spells': []},\n",
       "   {'slots': 0, 'spells': []},\n",
       "   {'slots': 0, 'spells': []},\n",
       "   {'slots': 0, 'spells': []},\n",
       "   {'slots': 0, 'spells': []},\n",
       "   {'slots': 0, 'spells': []}]}}"
      ]
     },
     "execution_count": 2,
     "metadata": {},
     "output_type": "execute_result"
    }
   ],
   "source": [
    "e.generate_character('warlock', alignment='chaotic good', level=3)"
   ]
  },
  {
   "cell_type": "code",
   "execution_count": null,
   "metadata": {},
   "outputs": [],
   "source": []
  }
 ],
 "metadata": {
  "kernelspec": {
   "display_name": "Python 3",
   "language": "python",
   "name": "python3"
  },
  "language_info": {
   "codemirror_mode": {
    "name": "ipython",
    "version": 3
   },
   "file_extension": ".py",
   "mimetype": "text/x-python",
   "name": "python",
   "nbconvert_exporter": "python",
   "pygments_lexer": "ipython3",
   "version": "3.9.7"
  }
 },
 "nbformat": 4,
 "nbformat_minor": 4
}
