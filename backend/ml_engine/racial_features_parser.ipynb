{
 "cells": [
  {
   "cell_type": "code",
   "execution_count": 1,
   "metadata": {},
   "outputs": [],
   "source": [
    "import json\n",
    "from os import path\n",
    "import GameData as gd"
   ]
  },
  {
   "cell_type": "code",
   "execution_count": 2,
   "metadata": {},
   "outputs": [],
   "source": [
    "data = gd.GameData()"
   ]
  },
  {
   "cell_type": "code",
   "execution_count": 3,
   "metadata": {},
   "outputs": [],
   "source": [
    "data.subrace_list"
   ]
  },
  {
   "cell_type": "code",
   "execution_count": 4,
   "metadata": {
    "scrolled": true
   },
   "outputs": [],
   "source": [
    "basepath = path.abspath('')\n",
    "rf = open(path.abspath(path.join(basepath, \"..\", \"game_data\", \"fandom_racial_features.json\")), \"r\", encoding=\"utf-8\")\n",
    "ra = json.load(rf)\n",
    "rf.close()\n",
    "del ra['Human Variant']"
   ]
  },
  {
   "cell_type": "code",
   "execution_count": 5,
   "metadata": {
    "scrolled": true
   },
   "outputs": [],
   "source": [
    "races = list(ra.keys())\n",
    "race_map = {}\n",
    "races"
   ]
  },
  {
   "cell_type": "code",
   "execution_count": 6,
   "metadata": {},
   "outputs": [],
   "source": [
    "temp = {}\n",
    "\n",
    "temp['Dwarf'] = []\n",
    "\n",
    "for key, val in ra['Dwarf']['Racial Abilities'].items():\n",
    "    if 'Subclass' not in val.keys():\n",
    "        temp['Dwarf'].append(key)\n",
    "    elif 'Dwarf' in val['Subclass']:\n",
    "        temp['Dwarf'].append(key)\n",
    "        \n",
    "for c in ra['Dwarf']['Subclasses']:\n",
    "    temp[c] = []\n",
    "    for key, val in ra['Dwarf']['Racial Abilities'].items():\n",
    "        if 'Subclass' not in val.keys():\n",
    "            temp[c].append(key)\n",
    "        elif c in val['Subclass']:\n",
    "            temp[c].append(key)\n",
    "\n",
    "temp"
   ]
  },
  {
   "cell_type": "code",
   "execution_count": 8,
   "metadata": {},
   "outputs": [
    {
     "data": {
      "text/plain": [
       "{'dragonborn': ['Draconic Ancestry', 'Breath Weapon', 'Damage Resistance'],\n",
       " 'dwarf': ['Darkvision',\n",
       "  'Dwarven Resilience',\n",
       "  'Dwarven Combat Training',\n",
       "  'Stonecunning'],\n",
       " 'hill dwarf': ['Darkvision',\n",
       "  'Dwarven Resilience',\n",
       "  'Dwarven Combat Training',\n",
       "  'Stonecunning',\n",
       "  'Dwarven Toughness'],\n",
       " 'mountain dwarf': ['Darkvision',\n",
       "  'Dwarven Resilience',\n",
       "  'Dwarven Combat Training',\n",
       "  'Stonecunning',\n",
       "  'Dwarven Armor Training'],\n",
       " 'underdark dwarf': ['Darkvision',\n",
       "  'Dwarven Resilience',\n",
       "  'Dwarven Combat Training',\n",
       "  'Stonecunning',\n",
       "  'Superior Darkvision',\n",
       "  'Duergar Resilience',\n",
       "  'Duergar Magic',\n",
       "  'Sunlight Sensitivity'],\n",
       " 'elf': ['Darkvision', 'Fey Ancestry', 'Trance'],\n",
       " 'dark elf': ['Darkvision',\n",
       "  'Fey Ancestry',\n",
       "  'Trance',\n",
       "  'Drow Magic',\n",
       "  'Drow Weapon Training',\n",
       "  'Keen Senses',\n",
       "  'Superior Darkvision',\n",
       "  'Sunlight Sensitivity'],\n",
       " 'high elf': ['Darkvision',\n",
       "  'Fey Ancestry',\n",
       "  'Trance',\n",
       "  'Keen Senses',\n",
       "  'Cantrip',\n",
       "  'Elf Weapon Training',\n",
       "  'Extra Language'],\n",
       " 'sea elf': ['Darkvision',\n",
       "  'Fey Ancestry',\n",
       "  'Trance',\n",
       "  'Keen Senses',\n",
       "  'Sea Elf Training',\n",
       "  'Child of the Sea',\n",
       "  'Friend of the Sea',\n",
       "  'Languages'],\n",
       " 'shadar-kai': ['Darkvision',\n",
       "  'Fey Ancestry',\n",
       "  'Trance',\n",
       "  'Keen Senses',\n",
       "  'Necrotic Resistance',\n",
       "  'Blessing of the Raven Queen'],\n",
       " 'wood elf': ['Darkvision',\n",
       "  'Fey Ancestry',\n",
       "  'Trance',\n",
       "  'Keen Senses',\n",
       "  'Elf Weapon Training',\n",
       "  'Fleet of Foot',\n",
       "  'Mask of the Wild'],\n",
       " 'gnome': ['Darkvision', 'Gnome Cunning'],\n",
       " 'forest gnome': ['Darkvision',\n",
       "  'Gnome Cunning',\n",
       "  'Natural Illusionist',\n",
       "  'Speak With Small Beasts'],\n",
       " 'rock gnome': ['Darkvision', 'Gnome Cunning', \"Artificer's Lore\", 'Tinker'],\n",
       " 'svirfneblin': ['Darkvision',\n",
       "  'Gnome Cunning',\n",
       "  'Superior Darkvision',\n",
       "  'Stone Camouflage'],\n",
       " 'half-elf': ['Darkvision', 'Fey Ancestry', 'Half-Elf Versatility'],\n",
       " 'halfling': ['Lucky', 'Brave', 'Nimble'],\n",
       " 'lightfoot halfling': ['Lucky', 'Brave', 'Nimble', 'Naturally Stealthy'],\n",
       " 'stout halfling': ['Lucky', 'Brave', 'Nimble', 'Stout Resilience'],\n",
       " 'ghostwise halfling': ['Lucky', 'Brave', 'Nimble', 'Silent Speech'],\n",
       " 'half-orc': ['Darkvision',\n",
       "  'Menacing',\n",
       "  'Relentless Endurance',\n",
       "  'Savage Attacks'],\n",
       " 'human': ['Ability Score Increase'],\n",
       " 'tiefling': ['Darkvision', 'Hellish Resistance'],\n",
       " 'bloodline of asmodeus': ['Darkvision',\n",
       "  'Hellish Resistance',\n",
       "  'Infernal Legacy'],\n",
       " 'bloodline of baalzebul': ['Darkvision',\n",
       "  'Hellish Resistance',\n",
       "  'Legacy of Maladomini'],\n",
       " 'bloodline of dispater': ['Darkvision',\n",
       "  'Hellish Resistance',\n",
       "  'Legacy of Dis'],\n",
       " 'bloodline of fierna': ['Darkvision',\n",
       "  'Hellish Resistance',\n",
       "  'Legacy of Phlegethos'],\n",
       " 'bloodline of glasya': ['Darkvision',\n",
       "  'Hellish Resistance',\n",
       "  'Legacy of Malbolge'],\n",
       " 'bloodline of levistus': ['Darkvision',\n",
       "  'Hellish Resistance',\n",
       "  'Legacy of Stygia'],\n",
       " 'bloodline of mammon': ['Darkvision',\n",
       "  'Hellish Resistance',\n",
       "  'Legacy of Minauros'],\n",
       " 'bloodline of mephistopheles': ['Darkvision',\n",
       "  'Hellish Resistance',\n",
       "  'Legacy of Cania'],\n",
       " 'bloodline of zariel': ['Darkvision',\n",
       "  'Hellish Resistance',\n",
       "  'Legacy of Avernus'],\n",
       " \"devil's tongue\": ['Darkvision', 'Hellish Resistance', \"Devil's Tongue\"],\n",
       " 'hellfire': ['Darkvision', 'Hellish Resistance', 'Hellfire'],\n",
       " 'winged': ['Darkvision', 'Hellish Resistance', 'Winged']}"
      ]
     },
     "execution_count": 8,
     "metadata": {},
     "output_type": "execute_result"
    }
   ],
   "source": [
    "for r in races:\n",
    "    race_map[r.lower()] = []\n",
    "    for key, val in ra[r]['Racial Abilities'].items():\n",
    "        if 'Subclass' not in val.keys():\n",
    "            race_map[r.lower()].append(key)\n",
    "        elif r in val['Subclass']:\n",
    "            race_map[r.lower()].append(key)\n",
    "    if 'Subclasses' in ra[r]:\n",
    "        for c in ra[r]['Subclasses']:\n",
    "            race_map[c.lower()] = []\n",
    "            for key, val in ra[r]['Racial Abilities'].items():\n",
    "                if 'Subclass' not in val.keys():\n",
    "                    race_map[c.lower()].append(key)\n",
    "                elif c in val['Subclass']:\n",
    "                    race_map[c.lower()].append(key)\n",
    "race_map"
   ]
  },
  {
   "cell_type": "code",
   "execution_count": 11,
   "metadata": {},
   "outputs": [],
   "source": [
    "with open(path.abspath(path.join(basepath, \"..\", \"game_data\", \"abilities_by_race.json\")), \"w\", encoding=\"utf-8\") as f:\n",
    "    json.dump(race_map, f, ensure_ascii=False, indent=4)"
   ]
  },
  {
   "cell_type": "code",
   "execution_count": 13,
   "metadata": {},
   "outputs": [
    {
     "data": {
      "text/plain": [
       "'Common, Elven'"
      ]
     },
     "execution_count": 13,
     "metadata": {},
     "output_type": "execute_result"
    }
   ],
   "source": [
    "arr = [\"Common\", \"Elven\"]\n",
    "temp = \"\"\n",
    "for s in arr:\n",
    "    temp += s + \", \"\n",
    "temp = temp.rstrip(\", \")\n",
    "\n",
    "temp"
   ]
  },
  {
   "cell_type": "code",
   "execution_count": 16,
   "metadata": {},
   "outputs": [
    {
     "data": {
      "text/plain": [
       "['light armor', 'simple weapons', 'hand crossbows', 'rapiers']"
      ]
     },
     "execution_count": 16,
     "metadata": {},
     "output_type": "execute_result"
    }
   ],
   "source": [
    "import random\n",
    "\n",
    "arr = [\n",
    "            \"light armor\",\n",
    "            \"simple weapons\",\n",
    "            \"hand crossbows\",\n",
    "            \"longswords\",\n",
    "            \"rapiers\",\n",
    "            \"shortswords\",\n",
    "            \"thieves' tools\"\n",
    "        ]\n",
    "\n",
    "random.sample(arr, 4)"
   ]
  },
  {
   "cell_type": "code",
   "execution_count": null,
   "metadata": {},
   "outputs": [],
   "source": []
  }
 ],
 "metadata": {
  "kernelspec": {
   "display_name": "Python 3",
   "language": "python",
   "name": "python3"
  },
  "language_info": {
   "codemirror_mode": {
    "name": "ipython",
    "version": 3
   },
   "file_extension": ".py",
   "mimetype": "text/x-python",
   "name": "python",
   "nbconvert_exporter": "python",
   "pygments_lexer": "ipython3",
   "version": "3.9.7"
  }
 },
 "nbformat": 4,
 "nbformat_minor": 4
}
