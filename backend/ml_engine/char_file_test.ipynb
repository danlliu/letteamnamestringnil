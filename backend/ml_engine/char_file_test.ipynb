{
 "cells": [
  {
   "cell_type": "code",
   "execution_count": null,
   "metadata": {},
   "outputs": [],
   "source": [
    "import json\n",
    "from os import path\n",
    "import GameData as gd\n",
    "import CharacterData as cd\n",
    "from pprint import pprint"
   ]
  },
  {
   "cell_type": "code",
   "execution_count": null,
   "metadata": {},
   "outputs": [],
   "source": [
    "basepath = path.abspath('')\n",
    "sheet_num = 5\n",
    "fpath = path.abspath(path.join(basepath, \"..\", \"training_data\", \"partially_cleaned\", \"kassoon_out_\" + str(sheet_num) + \".json\"))\n",
    "char_data = cd.read_character_json(fpath)"
   ]
  },
  {
   "cell_type": "code",
   "execution_count": null,
   "metadata": {},
   "outputs": [],
   "source": [
    "dl = cd.DataLists()\n",
    "dl.load_from_char_data(char_data)\n",
    "pprint(vars(dl))"
   ]
  },
  {
   "cell_type": "code",
   "execution_count": null,
   "metadata": {},
   "outputs": [],
   "source": [
    "ofpath = path.abspath(path.join(basepath, \"..\", \"training_data\", \"test_data_list.json\"))\n",
    "dl.save_to_file(ofpath)"
   ]
  },
  {
   "cell_type": "code",
   "execution_count": null,
   "metadata": {},
   "outputs": [],
   "source": [
    "dltwo = cd.DataLists()\n",
    "dltwo.load_from_file(ofpath)\n",
    "pprint(vars(dltwo))"
   ]
  },
  {
   "cell_type": "code",
   "execution_count": null,
   "metadata": {},
   "outputs": [],
   "source": []
  },
  {
   "cell_type": "code",
   "execution_count": null,
   "metadata": {},
   "outputs": [],
   "source": []
  }
 ],
 "metadata": {
  "kernelspec": {
   "display_name": "Python 3",
   "language": "python",
   "name": "python3"
  },
  "language_info": {
   "codemirror_mode": {
    "name": "ipython",
    "version": 3
   },
   "file_extension": ".py",
   "mimetype": "text/x-python",
   "name": "python",
   "nbconvert_exporter": "python",
   "pygments_lexer": "ipython3",
   "version": "3.9.7"
  }
 },
 "nbformat": 4,
 "nbformat_minor": 4
}
