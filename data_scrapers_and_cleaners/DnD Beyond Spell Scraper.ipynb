{
 "cells": [
  {
   "cell_type": "code",
   "execution_count": null,
   "metadata": {},
   "outputs": [],
   "source": [
    "\"\"\"\n",
    "THIS SCRAPE FAILED DUE TO LOGIN ISSUES\n",
    "SAVED FOR POSTERITY\n",
    "\"\"\""
   ]
  },
  {
   "cell_type": "code",
   "execution_count": 1,
   "metadata": {},
   "outputs": [],
   "source": [
    "import requests\n",
    "from bs4 import BeautifulSoup\n",
    "import json"
   ]
  },
  {
   "cell_type": "code",
   "execution_count": 2,
   "metadata": {},
   "outputs": [
    {
     "name": "stdout",
     "output_type": "stream",
     "text": [
      "[('Artificer', 252717), ('Bard', 1), ('Cleric', 2), ('Druid', 3), ('Paladin', 4), ('Ranger', 5), ('Sorcerer', 6), ('Warlock', 7), ('Wizard', 8)]\n",
      "('Druid', 3)\n",
      "Druid\n",
      "3\n"
     ]
    }
   ],
   "source": [
    "spells = {\n",
    "    \"cantrip\": [],\n",
    "    \"1st level\": [],\n",
    "    \"2nd level\": [],\n",
    "    \"3rd level\": [],\n",
    "    \"4th level\": [],\n",
    "    \"5th level\": [],\n",
    "    \"6th level\": [],\n",
    "    \"7th level\": [],\n",
    "    \"8th level\": [],\n",
    "    \"9th level\": []\n",
    "}\n",
    "legend = {\n",
    "    \"V\": \"verbal component (spoken incantation)\",\n",
    "    \"S\": \"somatic component (hand motion)\",\n",
    "    \"M\": \"material (uses up a certain material to cast)\"\n",
    "}\n",
    "class_ids = [\n",
    "    (\"Artificer\", 252717),\n",
    "    (\"Bard\", 1),\n",
    "    (\"Cleric\", 2),\n",
    "    (\"Druid\", 3),\n",
    "    (\"Paladin\", 4),\n",
    "    (\"Ranger\", 5),\n",
    "    (\"Sorcerer\", 6),\n",
    "    (\"Warlock\", 7),\n",
    "    (\"Wizard\", 8)\n",
    "]\n",
    "print(class_ids)\n",
    "print(class_ids[3])\n",
    "print(class_ids[3][0])\n",
    "print(class_ids[3][1])"
   ]
  },
  {
   "cell_type": "code",
   "execution_count": 3,
   "metadata": {},
   "outputs": [
    {
     "name": "stdout",
     "output_type": "stream",
     "text": [
      "Artificer lvl 0: https://www.dndbeyond.com/spells?filter-class=252717&filter-level=0\n",
      "Artificer lvl 1: https://www.dndbeyond.com/spells?filter-class=252717&filter-level=1\n",
      "Artificer lvl 2: https://www.dndbeyond.com/spells?filter-class=252717&filter-level=2\n",
      "Artificer lvl 3: https://www.dndbeyond.com/spells?filter-class=252717&filter-level=3\n",
      "Artificer lvl 4: https://www.dndbeyond.com/spells?filter-class=252717&filter-level=4\n",
      "Artificer lvl 5: https://www.dndbeyond.com/spells?filter-class=252717&filter-level=5\n",
      "Artificer lvl 6: https://www.dndbeyond.com/spells?filter-class=252717&filter-level=6\n",
      "Artificer lvl 7: https://www.dndbeyond.com/spells?filter-class=252717&filter-level=7\n",
      "Artificer lvl 8: https://www.dndbeyond.com/spells?filter-class=252717&filter-level=8\n",
      "Artificer lvl 9: https://www.dndbeyond.com/spells?filter-class=252717&filter-level=9\n",
      "Bard lvl 0: https://www.dndbeyond.com/spells?filter-class=1&filter-level=0\n",
      "Bard lvl 1: https://www.dndbeyond.com/spells?filter-class=1&filter-level=1\n",
      "Bard lvl 2: https://www.dndbeyond.com/spells?filter-class=1&filter-level=2\n",
      "Bard lvl 3: https://www.dndbeyond.com/spells?filter-class=1&filter-level=3\n",
      "Bard lvl 4: https://www.dndbeyond.com/spells?filter-class=1&filter-level=4\n",
      "Bard lvl 5: https://www.dndbeyond.com/spells?filter-class=1&filter-level=5\n",
      "Bard lvl 6: https://www.dndbeyond.com/spells?filter-class=1&filter-level=6\n",
      "Bard lvl 7: https://www.dndbeyond.com/spells?filter-class=1&filter-level=7\n",
      "Bard lvl 8: https://www.dndbeyond.com/spells?filter-class=1&filter-level=8\n",
      "Bard lvl 9: https://www.dndbeyond.com/spells?filter-class=1&filter-level=9\n",
      "Cleric lvl 0: https://www.dndbeyond.com/spells?filter-class=2&filter-level=0\n",
      "Cleric lvl 1: https://www.dndbeyond.com/spells?filter-class=2&filter-level=1\n",
      "Cleric lvl 2: https://www.dndbeyond.com/spells?filter-class=2&filter-level=2\n",
      "Cleric lvl 3: https://www.dndbeyond.com/spells?filter-class=2&filter-level=3\n",
      "Cleric lvl 4: https://www.dndbeyond.com/spells?filter-class=2&filter-level=4\n",
      "Cleric lvl 5: https://www.dndbeyond.com/spells?filter-class=2&filter-level=5\n",
      "Cleric lvl 6: https://www.dndbeyond.com/spells?filter-class=2&filter-level=6\n",
      "Cleric lvl 7: https://www.dndbeyond.com/spells?filter-class=2&filter-level=7\n",
      "Cleric lvl 8: https://www.dndbeyond.com/spells?filter-class=2&filter-level=8\n",
      "Cleric lvl 9: https://www.dndbeyond.com/spells?filter-class=2&filter-level=9\n",
      "Druid lvl 0: https://www.dndbeyond.com/spells?filter-class=3&filter-level=0\n",
      "Druid lvl 1: https://www.dndbeyond.com/spells?filter-class=3&filter-level=1\n",
      "Druid lvl 2: https://www.dndbeyond.com/spells?filter-class=3&filter-level=2\n",
      "Druid lvl 3: https://www.dndbeyond.com/spells?filter-class=3&filter-level=3\n",
      "Druid lvl 4: https://www.dndbeyond.com/spells?filter-class=3&filter-level=4\n",
      "Druid lvl 5: https://www.dndbeyond.com/spells?filter-class=3&filter-level=5\n",
      "Druid lvl 6: https://www.dndbeyond.com/spells?filter-class=3&filter-level=6\n",
      "Druid lvl 7: https://www.dndbeyond.com/spells?filter-class=3&filter-level=7\n",
      "Druid lvl 8: https://www.dndbeyond.com/spells?filter-class=3&filter-level=8\n",
      "Druid lvl 9: https://www.dndbeyond.com/spells?filter-class=3&filter-level=9\n",
      "Paladin lvl 0: https://www.dndbeyond.com/spells?filter-class=4&filter-level=0\n",
      "Paladin lvl 1: https://www.dndbeyond.com/spells?filter-class=4&filter-level=1\n",
      "Paladin lvl 2: https://www.dndbeyond.com/spells?filter-class=4&filter-level=2\n",
      "Paladin lvl 3: https://www.dndbeyond.com/spells?filter-class=4&filter-level=3\n",
      "Paladin lvl 4: https://www.dndbeyond.com/spells?filter-class=4&filter-level=4\n",
      "Paladin lvl 5: https://www.dndbeyond.com/spells?filter-class=4&filter-level=5\n",
      "Paladin lvl 6: https://www.dndbeyond.com/spells?filter-class=4&filter-level=6\n",
      "Paladin lvl 7: https://www.dndbeyond.com/spells?filter-class=4&filter-level=7\n",
      "Paladin lvl 8: https://www.dndbeyond.com/spells?filter-class=4&filter-level=8\n",
      "Paladin lvl 9: https://www.dndbeyond.com/spells?filter-class=4&filter-level=9\n",
      "Ranger lvl 0: https://www.dndbeyond.com/spells?filter-class=5&filter-level=0\n",
      "Ranger lvl 1: https://www.dndbeyond.com/spells?filter-class=5&filter-level=1\n",
      "Ranger lvl 2: https://www.dndbeyond.com/spells?filter-class=5&filter-level=2\n",
      "Ranger lvl 3: https://www.dndbeyond.com/spells?filter-class=5&filter-level=3\n",
      "Ranger lvl 4: https://www.dndbeyond.com/spells?filter-class=5&filter-level=4\n",
      "Ranger lvl 5: https://www.dndbeyond.com/spells?filter-class=5&filter-level=5\n",
      "Ranger lvl 6: https://www.dndbeyond.com/spells?filter-class=5&filter-level=6\n",
      "Ranger lvl 7: https://www.dndbeyond.com/spells?filter-class=5&filter-level=7\n",
      "Ranger lvl 8: https://www.dndbeyond.com/spells?filter-class=5&filter-level=8\n",
      "Ranger lvl 9: https://www.dndbeyond.com/spells?filter-class=5&filter-level=9\n",
      "Sorcerer lvl 0: https://www.dndbeyond.com/spells?filter-class=6&filter-level=0\n",
      "Sorcerer lvl 1: https://www.dndbeyond.com/spells?filter-class=6&filter-level=1\n",
      "Sorcerer lvl 2: https://www.dndbeyond.com/spells?filter-class=6&filter-level=2\n",
      "Sorcerer lvl 3: https://www.dndbeyond.com/spells?filter-class=6&filter-level=3\n",
      "Sorcerer lvl 4: https://www.dndbeyond.com/spells?filter-class=6&filter-level=4\n",
      "Sorcerer lvl 5: https://www.dndbeyond.com/spells?filter-class=6&filter-level=5\n",
      "Sorcerer lvl 6: https://www.dndbeyond.com/spells?filter-class=6&filter-level=6\n",
      "Sorcerer lvl 7: https://www.dndbeyond.com/spells?filter-class=6&filter-level=7\n",
      "Sorcerer lvl 8: https://www.dndbeyond.com/spells?filter-class=6&filter-level=8\n",
      "Sorcerer lvl 9: https://www.dndbeyond.com/spells?filter-class=6&filter-level=9\n",
      "Warlock lvl 0: https://www.dndbeyond.com/spells?filter-class=7&filter-level=0\n",
      "Warlock lvl 1: https://www.dndbeyond.com/spells?filter-class=7&filter-level=1\n",
      "Warlock lvl 2: https://www.dndbeyond.com/spells?filter-class=7&filter-level=2\n",
      "Warlock lvl 3: https://www.dndbeyond.com/spells?filter-class=7&filter-level=3\n",
      "Warlock lvl 4: https://www.dndbeyond.com/spells?filter-class=7&filter-level=4\n",
      "Warlock lvl 5: https://www.dndbeyond.com/spells?filter-class=7&filter-level=5\n",
      "Warlock lvl 6: https://www.dndbeyond.com/spells?filter-class=7&filter-level=6\n",
      "Warlock lvl 7: https://www.dndbeyond.com/spells?filter-class=7&filter-level=7\n",
      "Warlock lvl 8: https://www.dndbeyond.com/spells?filter-class=7&filter-level=8\n",
      "Warlock lvl 9: https://www.dndbeyond.com/spells?filter-class=7&filter-level=9\n",
      "Wizard lvl 0: https://www.dndbeyond.com/spells?filter-class=8&filter-level=0\n",
      "Wizard lvl 1: https://www.dndbeyond.com/spells?filter-class=8&filter-level=1\n",
      "Wizard lvl 2: https://www.dndbeyond.com/spells?filter-class=8&filter-level=2\n",
      "Wizard lvl 3: https://www.dndbeyond.com/spells?filter-class=8&filter-level=3\n",
      "Wizard lvl 4: https://www.dndbeyond.com/spells?filter-class=8&filter-level=4\n",
      "Wizard lvl 5: https://www.dndbeyond.com/spells?filter-class=8&filter-level=5\n",
      "Wizard lvl 6: https://www.dndbeyond.com/spells?filter-class=8&filter-level=6\n",
      "Wizard lvl 7: https://www.dndbeyond.com/spells?filter-class=8&filter-level=7\n",
      "Wizard lvl 8: https://www.dndbeyond.com/spells?filter-class=8&filter-level=8\n",
      "Wizard lvl 9: https://www.dndbeyond.com/spells?filter-class=8&filter-level=9\n"
     ]
    }
   ],
   "source": [
    "for cid in class_ids:\n",
    "    for lvl in range(0, 10):\n",
    "        URL = \"https://www.dndbeyond.com/spells?filter-class=\" + str(cid[1]) + \"&filter-level=\" + str(lvl)\n",
    "        # print(cid[0] + \" lvl \" + str(lvl) + \": \" + URL)\n",
    "        page = requests.get(URL)\n"
   ]
  },
  {
   "cell_type": "code",
   "execution_count": 4,
   "metadata": {},
   "outputs": [
    {
     "name": "stdout",
     "output_type": "stream",
     "text": [
      "b'<!DOCTYPE html> <html lang=\"en\"> <head> <meta charset=\"utf-8\"> <meta name=\"viewport\" content=\"width=device-width, initial-scale=1\"> <title>Access to this page has been denied.</title> <link href=\"https://fonts.googleapis.com/css?family=Open+Sans:300\" rel=\"stylesheet\"> <style> html, body { margin: 0; padding: 0; font-family: \\'Open Sans\\', sans-serif; color: #000; } a { color: #c5c5c5; text-decoration: none; } .container { align-items: center; display: flex; flex: 1; justify-content: space-between; flex-direction: column; height: 100%; } .container > div { width: 100%; display: flex; justify-content: center; } .container > div > div { display: flex; width: 80%; } .customer-logo-wrapper { padding-top: 2rem; flex-grow: 0; background-color: #fff; visibility: visible; } .customer-logo { border-bottom: 1px solid #000; } .customer-logo > img { padding-bottom: 1rem; max-height: 50px; max-width: 100%; } .page-title-wrapper { flex-grow: 2; } .page-title { flex-direction: column-reverse; } .content-wrapper { flex-grow: 5; } .content { flex-direction: column; } .page-footer-wrapper { align-items: center; flex-grow: 0.2; background-color: #000; color: #c5c5c5; font-size: 70%; } @media (min-width: 768px) { html, body { height: 100%; } } </style> <!-- Custom CSS --> <link href=\"https://media-waterdeep.cursecdn.com/attachments/px.css\" rel=\"stylesheet\"> </head> <body> <section class=\"container\"> <div class=\"customer-logo-wrapper\"> <div class=\"customer-logo\"> <img src=\"https://www.dndbeyond.com/content/skins/Waterdeep/images/dnd-beyond-logo-black.svg\" alt=\"Logo\"/> </div> </div> <div class=\"page-title-wrapper\"> <div class=\"page-title\"> <h1>Please verify you are a human</h1> </div> </div> <div class=\"content-wrapper\"> <div class=\"content\"> <div id=\"px-captcha\"> </div> <p> Access to this page has been denied because we believe you are using automation tools to browse the website. </p> <p> This may happen as a result of the following: </p> <ul> <li> Javascript is disabled or blocked by an extension (ad blockers for example) </li> <li> Your browser does not support cookies </li> </ul> <p> Please make sure that Javascript and cookies are enabled on your browser and that you are not blocking them from loading. </p> <p> Reference ID: #a149409d-1ae9-11ec-9c5d-427273635354 </p> </div> </div> <div class=\"page-footer-wrapper\"> <div class=\"page-footer\"> <p> Powered by <a href=\"https://www.perimeterx.com/whywasiblocked\">PerimeterX</a> , Inc. </p> </div> </div> </section> <!-- Px --> <script> window._pxAppId = \\'PXcNj12cyX\\'; window._pxJsClientSrc = \\'/cNj12cyX/init.js\\'; window._pxFirstPartyEnabled = true; window._pxVid = \\'\\'; window._pxUuid = \\'a149409d-1ae9-11ec-9c5d-427273635354\\'; window._pxHostUrl = \\'/cNj12cyX/xhr\\'; </script> <script> var s = document.createElement(\\'script\\'); s.src = \\'/cNj12cyX/captcha/captcha.js?a=c&u=a149409d-1ae9-11ec-9c5d-427273635354&v=&m=0\\'; var p = document.getElementsByTagName(\\'head\\')[0]; p.insertBefore(s, null); if (true ){s.onerror = function () {s = document.createElement(\\'script\\'); var suffixIndex = \\'/cNj12cyX/captcha/captcha.js?a=c&u=a149409d-1ae9-11ec-9c5d-427273635354&v=&m=0\\'.indexOf(\\'/captcha.js\\'); var temperedBlockScript = \\'/cNj12cyX/captcha/captcha.js?a=c&u=a149409d-1ae9-11ec-9c5d-427273635354&v=&m=0\\'.substring(suffixIndex); s.src = \\'//captcha.px-cdn.net/PXcNj12cyX\\' + temperedBlockScript; p.parentNode.insertBefore(s, p);};}</script> <!-- Custom Script -->  </body> </html>'\n"
     ]
    }
   ],
   "source": [
    "test_url = \"https://www.dndbeyond.com/spells?filter-class=1&filter-level=0\"\n",
    "page = requests.get(test_url)\n",
    "print(page.content)\n",
    "\n",
    "soup = BeautifulSoup(page.content, \"html.parser\")"
   ]
  },
  {
   "cell_type": "code",
   "execution_count": null,
   "metadata": {},
   "outputs": [],
   "source": []
  }
 ],
 "metadata": {
  "kernelspec": {
   "display_name": "Python 3",
   "language": "python",
   "name": "python3"
  },
  "language_info": {
   "codemirror_mode": {
    "name": "ipython",
    "version": 3
   },
   "file_extension": ".py",
   "mimetype": "text/x-python",
   "name": "python",
   "nbconvert_exporter": "python",
   "pygments_lexer": "ipython3",
   "version": "3.9.1"
  }
 },
 "nbformat": 4,
 "nbformat_minor": 4
}
